{
 "cells": [
  {
   "cell_type": "markdown",
   "id": "e634637e",
   "metadata": {},
   "source": [
    "# Data Collection\n"
   ]
  },
  {
   "cell_type": "markdown",
   "id": "5dd36b0d",
   "metadata": {},
   "source": [
    "Data Science - CA#00: *Etherscan* - Spring 1403 \\\n",
    "In this section, we will use web scraping to gather transaction data from the Ethereum blockchain using the Etherscan block explorer."
   ]
  },
  {
   "cell_type": "markdown",
   "id": "1ca352a49724d191",
   "metadata": {
    "collapsed": false
   },
   "source": [
    "To accomplish this task, we will employ web scraping techniques to extract the transaction data from the Etherscan website. The URL we will be targeting for our data collection is:\n",
    "\n",
    "[https://etherscan.io/txs](https://etherscan.io/txs)\n",
    "\n",
    "### Steps\n",
    "\n",
    "1. **Navigate to the URL**: Use Selenium to open the Etherscan transactions page in a browser.\n",
    "\n",
    "2. **Locate the Transaction Data**: Identify the HTML elements that contain the transaction data for the specified block range.\n",
    "\n",
    "3. **Extract the Data**: Write a script to extract the transaction details e.g. Hash, Method, Block, etc.\n",
    "\n",
    "4. **Handle Pagination**: If the transactions span multiple pages, implement pagination handling to navigate through the pages and collect all relevant transaction data.\n",
    "\n",
    "5. **Store the Data**: Save the extracted transaction data into a structured format, such as a CSV file or a pandas DataFrame, for further analysis.\n",
    "\n",
    "### Considerations\n",
    "\n",
    "- **Rate Limiting**: Be mindful of the website's rate limits to avoid being blocked. Implement delays between requests if necessary.\n",
    "- **Dynamic Content**: The Etherscan website may load content dynamically. Ensure that Selenium waits for the necessary elements to load before attempting to scrape the data.\n",
    "- **Data Cleaning**: After extraction, clean the data to remove any inconsistencies or errors that may have occurred during the scraping process.\n",
    "\n",
    "### Resources\n",
    "\n",
    "- [Beautiful Soup Documentation](https://www.crummy.com/software/BeautifulSoup/bs4/doc/)\n",
    "- [Selenium Documentation](https://selenium-python.readthedocs.io/)\n",
    "- [Pandas Documentation](https://pandas.pydata.org/docs/)\n",
    "- [Ethereum](https://ethereum.org/en/)"
   ]
  },
  {
   "cell_type": "code",
   "execution_count": 274,
   "id": "54fa10db-ec9e-4921-870a-50066926ed2d",
   "metadata": {},
   "outputs": [],
   "source": [
    "# Your code here"
   ]
  },
  {
   "cell_type": "markdown",
   "id": "6a013b104d142cfc",
   "metadata": {
    "collapsed": false
   },
   "source": [
    "## Data Analysis"
   ]
  },
  {
   "cell_type": "code",
   "execution_count": 275,
   "id": "9ace3eeb",
   "metadata": {},
   "outputs": [],
   "source": [
    "import pandas as pd\n",
    "import seaborn as sns\n",
    "import matplotlib.pyplot as plt"
   ]
  },
  {
   "cell_type": "code",
   "execution_count": 276,
   "id": "eeb39507",
   "metadata": {},
   "outputs": [],
   "source": [
    "FILE_PATH = 'transactions.csv'"
   ]
  },
  {
   "cell_type": "markdown",
   "id": "b97cf481",
   "metadata": {},
   "source": [
    "### Load Data"
   ]
  },
  {
   "cell_type": "code",
   "execution_count": 277,
   "id": "f481b11a08d876b6",
   "metadata": {
    "ExecuteTime": {
     "end_time": "2024-02-25T14:02:12.152030482Z",
     "start_time": "2024-02-25T14:02:12.101846096Z"
    },
    "collapsed": false
   },
   "outputs": [
    {
     "name": "stdout",
     "output_type": "stream",
     "text": [
      "<class 'pandas.core.frame.DataFrame'>\n",
      "RangeIndex: 5401 entries, 0 to 5400\n",
      "Data columns (total 8 columns):\n",
      " #   Column    Non-Null Count  Dtype  \n",
      "---  ------    --------------  -----  \n",
      " 0   Txn Hash  5401 non-null   object \n",
      " 1   Method    5401 non-null   object \n",
      " 2   Block     5401 non-null   int64  \n",
      " 3   Age       5401 non-null   object \n",
      " 4   From      5401 non-null   object \n",
      " 5   To        5401 non-null   object \n",
      " 6   Value     5401 non-null   object \n",
      " 7   Txn Fee   5401 non-null   float64\n",
      "dtypes: float64(1), int64(1), object(6)\n",
      "memory usage: 337.7+ KB\n"
     ]
    }
   ],
   "source": [
    "df = pd.read_csv(FILE_PATH)\n",
    "df.info()\n"
   ]
  },
  {
   "cell_type": "code",
   "execution_count": 278,
   "id": "3f98e1e2",
   "metadata": {},
   "outputs": [
    {
     "data": {
      "text/html": [
       "<div>\n",
       "<style scoped>\n",
       "    .dataframe tbody tr th:only-of-type {\n",
       "        vertical-align: middle;\n",
       "    }\n",
       "\n",
       "    .dataframe tbody tr th {\n",
       "        vertical-align: top;\n",
       "    }\n",
       "\n",
       "    .dataframe thead th {\n",
       "        text-align: right;\n",
       "    }\n",
       "</style>\n",
       "<table border=\"1\" class=\"dataframe\">\n",
       "  <thead>\n",
       "    <tr style=\"text-align: right;\">\n",
       "      <th></th>\n",
       "      <th>Block</th>\n",
       "      <th>Txn Fee</th>\n",
       "    </tr>\n",
       "  </thead>\n",
       "  <tbody>\n",
       "    <tr>\n",
       "      <th>count</th>\n",
       "      <td>5.401000e+03</td>\n",
       "      <td>5401.000000</td>\n",
       "    </tr>\n",
       "    <tr>\n",
       "      <th>mean</th>\n",
       "      <td>1.937103e+07</td>\n",
       "      <td>0.009382</td>\n",
       "    </tr>\n",
       "    <tr>\n",
       "      <th>std</th>\n",
       "      <td>2.421432e+00</td>\n",
       "      <td>0.018873</td>\n",
       "    </tr>\n",
       "    <tr>\n",
       "      <th>min</th>\n",
       "      <td>1.937102e+07</td>\n",
       "      <td>0.002088</td>\n",
       "    </tr>\n",
       "    <tr>\n",
       "      <th>25%</th>\n",
       "      <td>1.937102e+07</td>\n",
       "      <td>0.002312</td>\n",
       "    </tr>\n",
       "    <tr>\n",
       "      <th>50%</th>\n",
       "      <td>1.937103e+07</td>\n",
       "      <td>0.004795</td>\n",
       "    </tr>\n",
       "    <tr>\n",
       "      <th>75%</th>\n",
       "      <td>1.937103e+07</td>\n",
       "      <td>0.009791</td>\n",
       "    </tr>\n",
       "    <tr>\n",
       "      <th>max</th>\n",
       "      <td>1.937103e+07</td>\n",
       "      <td>0.416797</td>\n",
       "    </tr>\n",
       "  </tbody>\n",
       "</table>\n",
       "</div>"
      ],
      "text/plain": [
       "              Block      Txn Fee\n",
       "count  5.401000e+03  5401.000000\n",
       "mean   1.937103e+07     0.009382\n",
       "std    2.421432e+00     0.018873\n",
       "min    1.937102e+07     0.002088\n",
       "25%    1.937102e+07     0.002312\n",
       "50%    1.937103e+07     0.004795\n",
       "75%    1.937103e+07     0.009791\n",
       "max    1.937103e+07     0.416797"
      ]
     },
     "execution_count": 278,
     "metadata": {},
     "output_type": "execute_result"
    }
   ],
   "source": [
    "df.describe()"
   ]
  },
  {
   "cell_type": "markdown",
   "id": "0ea10c23",
   "metadata": {},
   "source": [
    "### Data Cleaning"
   ]
  },
  {
   "cell_type": "code",
   "execution_count": 279,
   "id": "ca837f6f",
   "metadata": {},
   "outputs": [],
   "source": [
    "df['Txn Fee'] = pd.to_numeric(df['Txn Fee'], errors='coerce')\n",
    "df['Value'] = pd.to_numeric(df['Value'], errors='coerce')"
   ]
  },
  {
   "cell_type": "code",
   "execution_count": 280,
   "id": "9c86692e",
   "metadata": {},
   "outputs": [],
   "source": [
    "duplicate_rows = df[df.duplicated()]\n",
    "df = df.drop_duplicates()"
   ]
  },
  {
   "cell_type": "code",
   "execution_count": 281,
   "id": "885559cf",
   "metadata": {},
   "outputs": [],
   "source": [
    "df = df[(df != 0).all(axis=1)]\n",
    "df = df[df['From'].astype(str) != df['To'].astype(str)]\n",
    "df['Age'] = pd.to_numeric(df['Age'].str.extract('(\\d+)')[0], errors='coerce')"
   ]
  },
  {
   "cell_type": "code",
   "execution_count": 282,
   "id": "b6ae16e2",
   "metadata": {},
   "outputs": [],
   "source": [
    "df = df.drop(['To'], axis=1)\n",
    "df = df.drop(['From'], axis=1)"
   ]
  },
  {
   "cell_type": "code",
   "execution_count": 283,
   "id": "fdb1b029",
   "metadata": {},
   "outputs": [
    {
     "name": "stdout",
     "output_type": "stream",
     "text": [
      "<class 'pandas.core.frame.DataFrame'>\n",
      "Index: 1327 entries, 0 to 5399\n",
      "Data columns (total 6 columns):\n",
      " #   Column    Non-Null Count  Dtype  \n",
      "---  ------    --------------  -----  \n",
      " 0   Txn Hash  1327 non-null   object \n",
      " 1   Method    1327 non-null   object \n",
      " 2   Block     1327 non-null   int64  \n",
      " 3   Age       1327 non-null   int64  \n",
      " 4   Value     1324 non-null   float64\n",
      " 5   Txn Fee   1327 non-null   float64\n",
      "dtypes: float64(2), int64(2), object(2)\n",
      "memory usage: 72.6+ KB\n"
     ]
    }
   ],
   "source": [
    "df.info()"
   ]
  },
  {
   "cell_type": "markdown",
   "id": "b6283f9f",
   "metadata": {},
   "source": [
    "### Statistical Analysis"
   ]
  },
  {
   "cell_type": "code",
   "execution_count": 284,
   "id": "4cb780af",
   "metadata": {},
   "outputs": [
    {
     "name": "stdout",
     "output_type": "stream",
     "text": [
      "Mean Transaction Fee: 0.004961010067822155\n",
      "Standard Deviation of Transaction Fee: 0.006413125775492505\n",
      "Mean Value: 1.5517028024924469\n",
      "Standard Deviation of Value: 6.675656439163917\n"
     ]
    }
   ],
   "source": [
    "mean_txn_fee = df['Txn Fee'].mean()\n",
    "std_dev_txn_fee = df['Txn Fee'].std()\n",
    "\n",
    "mean_value = df['Value'].mean()\n",
    "std_dev_value = df['Value'].std()\n",
    "\n",
    "print(f\"Mean Transaction Fee: {mean_txn_fee}\")\n",
    "print(f\"Standard Deviation of Transaction Fee: {std_dev_txn_fee}\")\n",
    "print(f\"Mean Value: {mean_value}\")\n",
    "print(f\"Standard Deviation of Value: {std_dev_value}\")"
   ]
  },
  {
   "cell_type": "markdown",
   "id": "e4e5f61b",
   "metadata": {},
   "source": [
    "### Visualization"
   ]
  },
  {
   "cell_type": "code",
   "execution_count": 285,
   "id": "668e653f",
   "metadata": {},
   "outputs": [],
   "source": [
    "sns.set(style=\"whitegrid\")"
   ]
  },
  {
   "cell_type": "markdown",
   "id": "526fae29",
   "metadata": {},
   "source": [
    "##### Histogram:\n",
    "\n",
    "- **Definition:** A histogram is a graphical representation of the distribution of a dataset. It consists of bars representing the frequencies or relative frequencies of different intervals (bins) of the data.\n",
    "\n",
    "- **Purpose:** It provides a visual representation of the underlying probability distribution of continuous numerical data.\n",
    "\n",
    "- **Key Points:**\n",
    "  - Bar heights represent the frequency or relative frequency of data within each bin.\n",
    "  - Suitable for understanding the shape, center, and spread of a distribution.\n"
   ]
  },
  {
   "cell_type": "code",
   "execution_count": 286,
   "id": "de77768f",
   "metadata": {},
   "outputs": [
    {
     "data": {
      "text/plain": [
       "Text(0.5, 1.0, 'Histogram of Transaction Fee')"
      ]
     },
     "execution_count": 286,
     "metadata": {},
     "output_type": "execute_result"
    },
    {
     "data": {
      "image/png": "[encoded data removed]",
      "text/plain": [
       "<Figure size 1200x600 with 1 Axes>"
      ]
     },
     "metadata": {},
     "output_type": "display_data"
    }
   ],
   "source": [
    "plt.figure(figsize=(12, 6))\n",
    "plt.subplot(2, 2, 1)\n",
    "sns.histplot(df['Txn Fee'], bins=20, kde=True, color='skyblue')\n",
    "plt.title('Histogram of Transaction Fee')"
   ]
  },
  {
   "cell_type": "code",
   "execution_count": 287,
   "id": "614518e4",
   "metadata": {},
   "outputs": [
    {
     "data": {
      "text/plain": [
       "Text(0.5, 1.0, 'Histogram of Value')"
      ]
     },
     "execution_count": 287,
     "metadata": {},
     "output_type": "execute_result"
    },
    {
     "data": {
      "image/png": "[encoded data removed]",
      "text/plain": [
       "<Figure size 640x480 with 1 Axes>"
      ]
     },
     "metadata": {},
     "output_type": "display_data"
    }
   ],
   "source": [
    "plt.subplot(2, 2, 2)\n",
    "sns.histplot(df['Value'], bins=20, kde=True, color='salmon')\n",
    "plt.title('Histogram of Value')"
   ]
  },
  {
   "cell_type": "markdown",
   "id": "3aeec9c8",
   "metadata": {},
   "source": [
    "##### Normal Distribution Plot:\n",
    "\n",
    "- **Representation:** A curve that is symmetric and bell-shaped, representing a normal distribution.\n",
    "\n",
    "- **Purpose:** Visualize how data is distributed assuming a normal distribution.\n",
    "\n",
    "- **Key Points:**\n",
    "  - Bell-shaped curve with a peak at the mean.\n",
    "  - Symmetric around the mean.\n",
    "  - Controlled by mean and standard deviation parameters."
   ]
  },
  {
   "cell_type": "code",
   "execution_count": 288,
   "id": "79026bb8",
   "metadata": {},
   "outputs": [
    {
     "data": {
      "image/png": "[encoded data removed]",
      "text/plain": [
       "<Figure size 640x480 with 2 Axes>"
      ]
     },
     "metadata": {},
     "output_type": "display_data"
    }
   ],
   "source": [
    "plt.subplot(2, 2, 3)\n",
    "sns.histplot(df['Txn Fee'], bins=20, kde=True, color='skyblue', stat='density')\n",
    "sns.kdeplot(df['Txn Fee'], color='darkblue')\n",
    "plt.title('Transaction Fee Distribution with Normal Fit')\n",
    "\n",
    "plt.subplot(2, 2, 4)\n",
    "sns.histplot(df['Value'], bins=20, kde=True, color='salmon', stat='density')\n",
    "sns.kdeplot(df['Value'], color='darkred')\n",
    "plt.title('Value Distribution with Normal Fit')\n",
    "\n",
    "plt.tight_layout()\n",
    "plt.show()"
   ]
  },
  {
   "cell_type": "markdown",
   "id": "8247e3cf",
   "metadata": {},
   "source": [
    "The values ​​are well fitted to the normal distribution. And they are distributed in a much more concentrated way around the mean. which is consistent with our expectation of human performance."
   ]
  },
  {
   "cell_type": "markdown",
   "id": "8e27286c",
   "metadata": {},
   "source": [
    "#### Box Plot (Box-and-Whisker Plot):\n",
    "\n",
    "- **Representation:** A standardized way of displaying the distribution based on a five-number summary.\n",
    "\n",
    "- **Purpose:** Provide a summary of central tendency and spread, highlighting potential outliers.\n",
    "\n",
    "- **Key Points:**\n",
    "  - Box represents interquartile range (IQR) between Q1 and Q3.\n",
    "  - Line inside the box is the median, and \"whiskers\" extend to minimum and maximum values within a certain range.\n",
    "  - Outliers may be plotted individually.\n"
   ]
  },
  {
   "cell_type": "code",
   "execution_count": 289,
   "id": "5eb062cd",
   "metadata": {},
   "outputs": [
    {
     "data": {
      "image/png": "[encoded data removed]",
      "text/plain": [
       "<Figure size 1200x600 with 2 Axes>"
      ]
     },
     "metadata": {},
     "output_type": "display_data"
    }
   ],
   "source": [
    "plt.figure(figsize=(12, 6))\n",
    "plt.subplot(1, 2, 1)\n",
    "sns.boxplot(x=df['Txn Fee'], color='skyblue')\n",
    "plt.title('Box Plot of Transaction Fee')\n",
    "\n",
    "plt.subplot(1, 2, 2)\n",
    "sns.boxplot(x=df['Value'], color='salmon')\n",
    "plt.title('Box Plot of Value')\n",
    "\n",
    "plt.tight_layout()\n",
    "plt.show()"
   ]
  },
  {
   "cell_type": "markdown",
   "id": "cebd0e2b",
   "metadata": {},
   "source": [
    "#### Violin Plot:\n",
    "\n",
    "- **Representation:** A combination of a box plot and a kernel density plot.\n",
    "\n",
    "- **Purpose:** Display the distribution of data across different levels or categories.\n",
    "\n",
    "- **Key Points:**\n",
    "  - Width of the plot represents the density of the data at different values.\n",
    "  - Box plot inside indicates quartiles and median.\n",
    "  - Useful for visualizing both summary statistics and distribution shape.\n"
   ]
  },
  {
   "cell_type": "code",
   "execution_count": 290,
   "id": "8e8320fe",
   "metadata": {},
   "outputs": [
    {
     "data": {
      "image/png": "[encoded data removed]",
      "text/plain": [
       "<Figure size 1200x600 with 2 Axes>"
      ]
     },
     "metadata": {},
     "output_type": "display_data"
    }
   ],
   "source": [
    "plt.figure(figsize=(12, 6))\n",
    "plt.subplot(1, 2, 1)\n",
    "sns.violinplot(x=df['Txn Fee'], color='skyblue')\n",
    "plt.title('Violin Plot of Transaction Fee')\n",
    "\n",
    "plt.subplot(1, 2, 2)\n",
    "sns.violinplot(x=df['Value'], color='salmon')\n",
    "plt.title('Violin Plot of Value')\n",
    "\n",
    "plt.tight_layout()\n",
    "plt.show()"
   ]
  },
  {
   "cell_type": "markdown",
   "id": "87030e5e0b4fe1e6",
   "metadata": {
    "collapsed": false
   },
   "source": [
    "## Data Sampling and Analysis"
   ]
  },
  {
   "cell_type": "code",
   "execution_count": 291,
   "id": "a302be75",
   "metadata": {},
   "outputs": [],
   "source": [
    "IRRELEVANT_COLUMNS = {\"From\", \"To\"}\n",
    "TO_NUMERIC_COLUMNS = {\"Txn Fee\", \"Value\"}\n",
    "SRS_SAMPLING_SIZE = 66 #0.05 * total_population"
   ]
  },
  {
   "cell_type": "markdown",
   "id": "d9129f27",
   "metadata": {},
   "source": [
    "### Load Data"
   ]
  },
  {
   "cell_type": "code",
   "execution_count": 292,
   "id": "c06e304a",
   "metadata": {},
   "outputs": [],
   "source": [
    "df = pd.read_csv(FILE_PATH)"
   ]
  },
  {
   "cell_type": "markdown",
   "id": "5a71dfc7",
   "metadata": {},
   "source": [
    "### Data Cleaning"
   ]
  },
  {
   "cell_type": "code",
   "execution_count": 293,
   "id": "ad826809",
   "metadata": {},
   "outputs": [
    {
     "data": {
      "text/html": [
       "<div>\n",
       "<style scoped>\n",
       "    .dataframe tbody tr th:only-of-type {\n",
       "        vertical-align: middle;\n",
       "    }\n",
       "\n",
       "    .dataframe tbody tr th {\n",
       "        vertical-align: top;\n",
       "    }\n",
       "\n",
       "    .dataframe thead th {\n",
       "        text-align: right;\n",
       "    }\n",
       "</style>\n",
       "<table border=\"1\" class=\"dataframe\">\n",
       "  <thead>\n",
       "    <tr style=\"text-align: right;\">\n",
       "      <th></th>\n",
       "      <th>feature</th>\n",
       "      <th>Count</th>\n",
       "      <th>Percent</th>\n",
       "    </tr>\n",
       "  </thead>\n",
       "  <tbody>\n",
       "    <tr>\n",
       "      <th>0</th>\n",
       "      <td>Txn Hash</td>\n",
       "      <td>0</td>\n",
       "      <td>0.0</td>\n",
       "    </tr>\n",
       "    <tr>\n",
       "      <th>1</th>\n",
       "      <td>Method</td>\n",
       "      <td>0</td>\n",
       "      <td>0.0</td>\n",
       "    </tr>\n",
       "    <tr>\n",
       "      <th>2</th>\n",
       "      <td>Block</td>\n",
       "      <td>0</td>\n",
       "      <td>0.0</td>\n",
       "    </tr>\n",
       "    <tr>\n",
       "      <th>3</th>\n",
       "      <td>Age</td>\n",
       "      <td>0</td>\n",
       "      <td>0.0</td>\n",
       "    </tr>\n",
       "    <tr>\n",
       "      <th>4</th>\n",
       "      <td>From</td>\n",
       "      <td>0</td>\n",
       "      <td>0.0</td>\n",
       "    </tr>\n",
       "    <tr>\n",
       "      <th>5</th>\n",
       "      <td>To</td>\n",
       "      <td>0</td>\n",
       "      <td>0.0</td>\n",
       "    </tr>\n",
       "    <tr>\n",
       "      <th>6</th>\n",
       "      <td>Value</td>\n",
       "      <td>0</td>\n",
       "      <td>0.0</td>\n",
       "    </tr>\n",
       "    <tr>\n",
       "      <th>7</th>\n",
       "      <td>Txn Fee</td>\n",
       "      <td>0</td>\n",
       "      <td>0.0</td>\n",
       "    </tr>\n",
       "  </tbody>\n",
       "</table>\n",
       "</div>"
      ],
      "text/plain": [
       "    feature  Count  Percent\n",
       "0  Txn Hash      0      0.0\n",
       "1    Method      0      0.0\n",
       "2     Block      0      0.0\n",
       "3       Age      0      0.0\n",
       "4      From      0      0.0\n",
       "5        To      0      0.0\n",
       "6     Value      0      0.0\n",
       "7   Txn Fee      0      0.0"
      ]
     },
     "execution_count": 293,
     "metadata": {},
     "output_type": "execute_result"
    }
   ],
   "source": [
    "def get_missing_values(df: pd.DataFrame):\n",
    "    total_entities = len(df)\n",
    "    missing_values = df.isna().sum()\n",
    "    missing_proportion = (missing_values / total_entities) * 100\n",
    "    return pd.DataFrame({'feature':missing_values.index, 'Count':missing_values.values, 'Percent':missing_proportion.values})\n",
    "\n",
    "lost_values = get_missing_values(df)\n",
    "lost_values"
   ]
  },
  {
   "cell_type": "markdown",
   "id": "45ea4aac",
   "metadata": {},
   "source": [
    "there is no missing value in this special case."
   ]
  },
  {
   "cell_type": "code",
   "execution_count": 294,
   "id": "01c367f4",
   "metadata": {},
   "outputs": [],
   "source": [
    "\n",
    "def handle_missing_data(_df: pd.DataFrame, loss_values_stats: pd.DataFrame, del_threshold: float = 0.5):\n",
    "    mean_kind = ['i', 'f']\n",
    "    mode_kind = ['O']\n",
    "    df = _df.copy(deep=True)\n",
    "    for feature, percent in zip(loss_values_stats['feature'], loss_values_stats['Percent']):\n",
    "        if percent == 0 :\n",
    "            continue\n",
    "        elif percent >= del_threshold * 100:\n",
    "            df.drop(feature, axis=1, inplace=True)\n",
    "        elif df[feature].dtype.kind in mean_kind:\n",
    "            df[feature].fillna(df[feature].mean(), inplace=True)\n",
    "        elif df[feature].dtype.kind in mode_kind:\n",
    "            df[feature].fillna(df[feature].mode()[0], inplace=True)\n",
    "    return df\n",
    "\n",
    "def handel_duplicated_values(df: pd.DataFrame):\n",
    "    df = df.drop_duplicates()\n",
    "    return df\n",
    "\n",
    "def drop_irrelevant_columns(df: pd.DataFrame, irrelevant_columns):\n",
    "    for c in irrelevant_columns:\n",
    "        df = df.drop([c], axis=1)\n",
    "    return df\n",
    "\n",
    "def replace_with_numeric(df: pd.DataFrame, columns):\n",
    "    for c in columns:\n",
    "        df[c] = pd.to_numeric(df[c], errors='coerce')\n",
    "    for c in columns:\n",
    "        mean_value = df[c].mean(skipna=True)\n",
    "        df[c] = pd.to_numeric(df[c], errors='coerce').fillna(mean_value)\n",
    "    return df\n",
    "\n",
    "def special_data_conversion(df):\n",
    "    df = df[(df != 0).all(axis=1)]\n",
    "    df = df[df['From'].astype(str) != df['To'].astype(str)]\n",
    "    df['Age'] = pd.to_numeric(df['Age'].str.extract('(\\d+)')[0], errors='coerce')\n",
    "    return df\n",
    "\n",
    "def cleaning_data(df: pd.DataFrame, irrelevant_columns, lost_values, to_numeric_columns):\n",
    "    fixed = replace_with_numeric(df, to_numeric_columns)\n",
    "    fixed = handle_missing_data(fixed, lost_values)\n",
    "    fixed = special_data_conversion(fixed)\n",
    "    fixed = handel_duplicated_values(fixed)\n",
    "    fixed = drop_irrelevant_columns(fixed, irrelevant_columns)\n",
    "    return fixed\n"
   ]
  },
  {
   "cell_type": "code",
   "execution_count": 295,
   "id": "609992db",
   "metadata": {},
   "outputs": [
    {
     "name": "stdout",
     "output_type": "stream",
     "text": [
      "<class 'pandas.core.frame.DataFrame'>\n",
      "Index: 1327 entries, 0 to 5399\n",
      "Data columns (total 6 columns):\n",
      " #   Column    Non-Null Count  Dtype  \n",
      "---  ------    --------------  -----  \n",
      " 0   Txn Hash  1327 non-null   object \n",
      " 1   Method    1327 non-null   object \n",
      " 2   Block     1327 non-null   int64  \n",
      " 3   Age       1327 non-null   int64  \n",
      " 4   Value     1327 non-null   float64\n",
      " 5   Txn Fee   1327 non-null   float64\n",
      "dtypes: float64(2), int64(2), object(2)\n",
      "memory usage: 72.6+ KB\n"
     ]
    }
   ],
   "source": [
    "df = cleaning_data(df, IRRELEVANT_COLUMNS, lost_values, TO_NUMERIC_COLUMNS)\n",
    "df.info()"
   ]
  },
  {
   "cell_type": "markdown",
   "id": "a1fd6a11",
   "metadata": {},
   "source": [
    "## Sampling Methods"
   ]
  },
  {
   "cell_type": "markdown",
   "id": "b943a493",
   "metadata": {},
   "source": [
    "#### Simple Random Sampling (SRS):\n",
    "- **Functionality:** Involves randomly selecting individuals from the population with an equal probability of being chosen. Every individual has an equal chance of being part of the sample.\n",
    "- **Use Case:** Suitable when the population is homogeneous and no specific characteristics need to be considered in the sampling process.\n",
    "\n",
    "#### Stratified Sampling:\n",
    "- **Functionality:** Divides the population into subgroups (strata) based on certain characteristics. Samples are then independently taken from each stratum. This ensures representation from different subgroups.\n",
    "- **Use Case:** Useful when the population has distinct subgroups with varying characteristics, and you want to ensure each subgroup is adequately represented in the sample.\n",
    "\n",
    "#### Systematic Sampling:\n",
    "- **Functionality:** Involves selecting every kth individual from the population after randomly selecting a starting point. The value of k is determined by dividing the population size by the desired sample size.\n",
    "- **Use Case:** Useful when the population is ordered in some way, and a systematic approach simplifies the sampling process.\n",
    "\n",
    "#### Cluster Sampling:\n",
    "- **Functionality:** Divides the population into clusters, randomly selects some clusters, and then includes all individuals within the selected clusters in the sample.\n",
    "- **Use Case:** Appropriate when the population is naturally divided into clusters, and it is more practical to sample entire clusters rather than individual elements.\n",
    "\n",
    "#### Convenience Sampling:\n",
    "- **Functionality:** Involves selecting individuals who are easiest to reach or readily available. This method is often used for its convenience but may introduce bias.\n",
    "- **Use Case:** Suitable for preliminary research or when access to the entire population is challenging.\n",
    "\n",
    "#### Quota Sampling:\n",
    "- **Functionality:** Similar to stratified sampling, but the researcher sets quotas for each stratum based on certain characteristics. Individuals are then conveniently selected to meet these quotas.\n",
    "- **Use Case:** Useful when specific proportions of the population need to be represented in the sample, but random selection within strata is not feasible.\n"
   ]
  },
  {
   "cell_type": "markdown",
   "id": "27d7c356",
   "metadata": {},
   "source": [
    "If your primary goal is to obtain a broad, representative sample of Etherscan transactions ``without a specific focus`` on distinct subgroups or patterns, `Simple Random Sampling` (SRS) might be a suitable choice. \\\n",
    "If there are ``identifiable subgroups`` in the data that you believe are crucial for analysis, and you want to ensure representation from each subgroup, `Stratified Sampling` could be more appropriate."
   ]
  },
  {
   "cell_type": "markdown",
   "id": "f8a1a37e",
   "metadata": {},
   "source": [
    "### SRS"
   ]
  },
  {
   "cell_type": "code",
   "execution_count": 296,
   "id": "759ff50e",
   "metadata": {},
   "outputs": [
    {
     "name": "stdout",
     "output_type": "stream",
     "text": [
      "<class 'pandas.core.frame.DataFrame'>\n",
      "Index: 66 entries, 4565 to 1243\n",
      "Data columns (total 6 columns):\n",
      " #   Column    Non-Null Count  Dtype  \n",
      "---  ------    --------------  -----  \n",
      " 0   Txn Hash  66 non-null     object \n",
      " 1   Method    66 non-null     object \n",
      " 2   Block     66 non-null     int64  \n",
      " 3   Age       66 non-null     int64  \n",
      " 4   Value     66 non-null     float64\n",
      " 5   Txn Fee   66 non-null     float64\n",
      "dtypes: float64(2), int64(2), object(2)\n",
      "memory usage: 3.6+ KB\n"
     ]
    }
   ],
   "source": [
    "sample_srs = df.sample(SRS_SAMPLING_SIZE, random_state=42)\n",
    "sample_srs.info()"
   ]
  },
  {
   "cell_type": "markdown",
   "id": "8003f8b6",
   "metadata": {},
   "source": [
    "#### SRS Sampling Size:\n",
    "Determining an appropriate sample size depends on several factors, including the size of the population, the desired level of precision, and the available resources for the study. However, a common rule of thumb is that a sample size of around 5% of the population can often provide reliable results for a wide range of scenarios."
   ]
  },
  {
   "cell_type": "markdown",
   "id": "ac93bb85",
   "metadata": {},
   "source": [
    "### Stratified Sampling"
   ]
  },
  {
   "cell_type": "code",
   "execution_count": 297,
   "id": "ae77896e",
   "metadata": {},
   "outputs": [],
   "source": [
    "#continue"
   ]
  },
  {
   "cell_type": "markdown",
   "id": "642f9ccd",
   "metadata": {},
   "source": [
    "### Statistical Analysis"
   ]
  },
  {
   "cell_type": "code",
   "execution_count": null,
   "id": "b12d1d46",
   "metadata": {},
   "outputs": [],
   "source": []
  },
  {
   "cell_type": "markdown",
   "id": "cd7d0030",
   "metadata": {},
   "source": [
    "### Visualization"
   ]
  },
  {
   "cell_type": "code",
   "execution_count": null,
   "id": "8e9cb862",
   "metadata": {},
   "outputs": [],
   "source": []
  },
  {
   "cell_type": "markdown",
   "id": "7734a734",
   "metadata": {},
   "source": [
    "## Questions"
   ]
  },
  {
   "cell_type": "markdown",
   "id": "efcc52d5",
   "metadata": {},
   "source": [
    "### 1. What are some potential limitations when using web scraping for data collection? Specifically, what problems did you face while fetching data from Etherscan? What problems can these limitations cause in your analysis?"
   ]
  },
  {
   "cell_type": "markdown",
   "id": "334f0d1e",
   "metadata": {},
   "source": []
  },
  {
   "cell_type": "markdown",
   "id": "ca2b3142",
   "metadata": {},
   "source": [
    "### 2. What can make your analysis untrustworthy? What are your solutions?"
   ]
  },
  {
   "cell_type": "markdown",
   "id": "c1a22fa3",
   "metadata": {},
   "source": [
    "##### Incomplete Data:\n",
    "- **Strategy:** Implement error handling in the scraping process to identify and address missed data points.\n",
    "- **Objective:** Ensure a robust data collection process that captures all relevant information.\n",
    "\n",
    "##### Data Quality Issues:\n",
    "- **Strategy:** Perform thorough data cleaning procedures.\n",
    "- **Approach:**\n",
    "  - Handle missing values appropriately.\n",
    "  - Validate the consistency of the data.\n",
    "- **Objective:** Enhance the overall quality and reliability of the collected data.\n"
   ]
  },
  {
   "cell_type": "markdown",
   "id": "c33fd353",
   "metadata": {},
   "source": [
    "### 3. How did the visualization help you in understanding the data? What could you interpret from the plots?"
   ]
  },
  {
   "cell_type": "markdown",
   "id": "e0e9a1ed",
   "metadata": {},
   "source": [
    "Visualizations provide a clear and intuitive representation of data patterns and distributions.\n",
    "##### Interpretation of Plots:\n",
    "\n",
    "##### Histograms:\n",
    "- **Purpose:** Show the distribution of transaction values.\n",
    "\n",
    "##### Normal Distribution Plots:\n",
    "- **Purpose:** Compare the empirical distribution with a theoretical normal distribution.\n",
    "\n",
    "##### Box Plots and Violin Plots:\n",
    "- **Purpose:** Identify outliers and visualize data distribution.\n"
   ]
  },
  {
   "cell_type": "markdown",
   "id": "7340326e",
   "metadata": {},
   "source": [
    "### 4. How do the two sampling methods differ in their output? Compare these and explain which one is a better fit to the population."
   ]
  },
  {
   "cell_type": "markdown",
   "id": "ed4b1865",
   "metadata": {},
   "source": []
  }
 ],
 "metadata": {
  "kernelspec": {
   "display_name": "Python 3 (ipykernel)",
   "language": "python",
   "name": "python3"
  },
  "language_info": {
   "codemirror_mode": {
    "name": "ipython",
    "version": 3
   },
   "file_extension": ".py",
   "mimetype": "text/x-python",
   "name": "python",
   "nbconvert_exporter": "python",
   "pygments_lexer": "ipython3",
   "version": "3.10.11"
  }
 },
 "nbformat": 4,
 "nbformat_minor": 5
}
