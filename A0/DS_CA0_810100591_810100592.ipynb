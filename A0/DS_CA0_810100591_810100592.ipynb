{
 "cells": [
  {
   "cell_type": "markdown",
   "id": "e634637e",
   "metadata": {},
   "source": [
    "# Data Collection\n"
   ]
  },
  {
   "cell_type": "markdown",
   "id": "5dd36b0d",
   "metadata": {},
   "source": [
    "Data Science - CA#00: *Etherscan* - Spring 1403 \\\n",
    "In this section, we will use web scraping to gather transaction data from the Ethereum blockchain using the Etherscan block explorer."
   ]
  },
  {
   "cell_type": "markdown",
   "id": "1ca352a49724d191",
   "metadata": {
    "collapsed": false
   },
   "source": [
    "To accomplish this task, we will employ web scraping techniques to extract the transaction data from the Etherscan website. The URL we will be targeting for our data collection is:\n",
    "\n",
    "[https://etherscan.io/txs](https://etherscan.io/txs)\n",
    "\n",
    "### Steps\n",
    "\n",
    "1. **Navigate to the URL**: Use Selenium to open the Etherscan transactions page in a browser.\n",
    "\n",
    "2. **Locate the Transaction Data**: Identify the HTML elements that contain the transaction data for the specified block range.\n",
    "\n",
    "3. **Extract the Data**: Write a script to extract the transaction details e.g. Hash, Method, Block, etc.\n",
    "\n",
    "4. **Handle Pagination**: If the transactions span multiple pages, implement pagination handling to navigate through the pages and collect all relevant transaction data.\n",
    "\n",
    "5. **Store the Data**: Save the extracted transaction data into a structured format, such as a CSV file or a pandas DataFrame, for further analysis.\n",
    "\n",
    "### Considerations\n",
    "\n",
    "- **Rate Limiting**: Be mindful of the website's rate limits to avoid being blocked. Implement delays between requests if necessary.\n",
    "- **Dynamic Content**: The Etherscan website may load content dynamically. Ensure that Selenium waits for the necessary elements to load before attempting to scrape the data.\n",
    "- **Data Cleaning**: After extraction, clean the data to remove any inconsistencies or errors that may have occurred during the scraping process.\n",
    "\n",
    "### Resources\n",
    "\n",
    "- [Beautiful Soup Documentation](https://www.crummy.com/software/BeautifulSoup/bs4/doc/)\n",
    "- [Selenium Documentation](https://selenium-python.readthedocs.io/)\n",
    "- [Pandas Documentation](https://pandas.pydata.org/docs/)\n",
    "- [Ethereum](https://ethereum.org/en/)"
   ]
  },
  {
   "cell_type": "code",
   "execution_count": 14,
   "id": "d2f1f241",
   "metadata": {},
   "outputs": [],
   "source": [
    "from selenium import webdriver\n",
    "from selenium.webdriver.common.by import By\n",
    "from selenium.webdriver.support.ui import WebDriverWait\n",
    "from selenium.webdriver.support import expected_conditions as EC\n",
    "from bs4 import BeautifulSoup\n",
    "import sys\n",
    "import time\n",
    "import pandas as pd"
   ]
  },
  {
   "cell_type": "code",
   "execution_count": 15,
   "id": "bc5cecb9",
   "metadata": {},
   "outputs": [],
   "source": [
    "def updateDFs(dfs, transaction):\n",
    "    df = pd.DataFrame(columns=['Txn Hash', 'Method', 'Block', 'Age', 'From', 'To', 'Value', 'Txn Fee'])\n",
    "    df = df.dropna(how='all')\n",
    "    df = df.dropna(axis=1, how='all')\n",
    "    df = pd.concat([df, pd.DataFrame([transaction])], ignore_index=True)\n",
    "    dfs.append(df)\n",
    "    return dfs\n",
    "\n",
    "# Navigate to the URL\n",
    "driver = webdriver.Chrome()\n",
    "driver.get('https://etherscan.io/txs')\n",
    "\n",
    "wait = WebDriverWait(driver, sys.maxsize)\n",
    "\n",
    "dfs = []\n",
    "prev_block = -1\n",
    "\n",
    "while True:\n",
    "    # Dynamic Content\n",
    "    wait.until(EC.presence_of_element_located((By.TAG_NAME, 'tbody')))\n",
    "    \n",
    "    # Locate the Transaction Data\n",
    "    soup = BeautifulSoup(driver.page_source, 'html.parser')\n",
    "    rows = soup.find_all('tr')\n",
    "    end = False\n",
    "\n",
    "    for row in rows[1:]:\n",
    "        cols = row.find_all('td')\n",
    "        \n",
    "        # Extract the Data\n",
    "        transaction = {\n",
    "            # Data Cleaning\n",
    "            'Txn Hash': cols[1].text.strip(),\n",
    "            'Method': cols[2].text.strip(),\n",
    "            'Block': int(cols[3].text.strip()),\n",
    "            'Age': cols[5].text.strip(),\n",
    "            'From': cols[7].text.strip(),\n",
    "            'To': cols[9].text.strip(),\n",
    "            'Value': float(''.join([c for c in cols[10].text.strip() if c.isdigit() or c == '.'])), \n",
    "            'Txn Fee':cols[11].text.strip()\n",
    "        }\n",
    "\n",
    "        flag = False\n",
    "        for idx, df in enumerate(dfs):\n",
    "            if df['Block'].iloc[0] == transaction['Block']:\n",
    "                new_df = pd.concat([df, pd.DataFrame([transaction])], ignore_index=True)\n",
    "                dfs[idx] = new_df\n",
    "                flag = True\n",
    "                break\n",
    "        if flag == False:\n",
    "            if len(dfs) < 10:\n",
    "                if prev_block == -1 or abs(prev_block - transaction['Block']) == 1 or (abs(prev_block - transaction['Block']) == 2 and len(dfs) < 9):\n",
    "                    dfs = updateDFs(dfs, transaction)\n",
    "\n",
    "                elif abs(prev_block - transaction['Block']) > 2:\n",
    "                    dfs.clear()\n",
    "                    dfs = updateDFs(dfs, transaction)\n",
    "\n",
    "                prev_block = transaction['Block']\n",
    "\n",
    "            elif len(dfs) == 10 and abs(prev_block - transaction['Block']) >= 5:\n",
    "                end = True\n",
    "                break\n",
    "\n",
    "    if end == True: break\n",
    "\n",
    "    next_button = soup.find('a', {'aria-label': 'Next'})\n",
    "    if next_button:\n",
    "        \n",
    "        # Handle Pagination\n",
    "        button = driver.find_element(By.CSS_SELECTOR, \"a[aria-label='Next']\")\n",
    "        driver.execute_script('arguments[0].click();', button)\n",
    "\n",
    "        # Rate Limiting\n",
    "        time.sleep(2)\n",
    "    else:\n",
    "        break \n",
    "\n",
    "dfs = sorted(dfs, key=lambda df: df['Block'].iloc[0])\n",
    "dfs = pd.concat(dfs)\n",
    "\n",
    "# Store the Data\n",
    "dfs.to_csv('transactions.csv', index=False)\n",
    "driver.quit()"
   ]
  },
  {
   "cell_type": "markdown",
   "id": "6a013b104d142cfc",
   "metadata": {
    "collapsed": false
   },
   "source": [
    "## Data Analysis"
   ]
  },
  {
   "cell_type": "code",
   "execution_count": 16,
   "id": "9ace3eeb",
   "metadata": {},
   "outputs": [],
   "source": [
    "import pandas as pd\n",
    "import seaborn as sns\n",
    "import matplotlib.pyplot as plt"
   ]
  },
  {
   "cell_type": "code",
   "execution_count": 17,
   "id": "eeb39507",
   "metadata": {},
   "outputs": [],
   "source": [
    "FILE_PATH = 'transactions.csv'"
   ]
  },
  {
   "cell_type": "markdown",
   "id": "b97cf481",
   "metadata": {},
   "source": [
    "### Load Data"
   ]
  },
  {
   "cell_type": "code",
   "execution_count": 18,
   "id": "f481b11a08d876b6",
   "metadata": {
    "ExecuteTime": {
     "end_time": "2024-02-25T14:02:12.152030482Z",
     "start_time": "2024-02-25T14:02:12.101846096Z"
    },
    "collapsed": false
   },
   "outputs": [
    {
     "name": "stdout",
     "output_type": "stream",
     "text": [
      "<class 'pandas.core.frame.DataFrame'>\n",
      "RangeIndex: 3573 entries, 0 to 3572\n",
      "Data columns (total 8 columns):\n",
      " #   Column    Non-Null Count  Dtype  \n",
      "---  ------    --------------  -----  \n",
      " 0   Txn Hash  3573 non-null   object \n",
      " 1   Method    3573 non-null   object \n",
      " 2   Block     3573 non-null   int64  \n",
      " 3   Age       3573 non-null   object \n",
      " 4   From      3573 non-null   object \n",
      " 5   To        3573 non-null   object \n",
      " 6   Value     3573 non-null   float64\n",
      " 7   Txn Fee   3573 non-null   float64\n",
      "dtypes: float64(2), int64(1), object(5)\n",
      "memory usage: 223.4+ KB\n"
     ]
    }
   ],
   "source": [
    "df = pd.read_csv(FILE_PATH)\n",
    "df.info()"
   ]
  },
  {
   "cell_type": "code",
   "execution_count": 19,
   "id": "3f98e1e2",
   "metadata": {},
   "outputs": [
    {
     "data": {
      "text/html": [
       "<div>\n",
       "<style scoped>\n",
       "    .dataframe tbody tr th:only-of-type {\n",
       "        vertical-align: middle;\n",
       "    }\n",
       "\n",
       "    .dataframe tbody tr th {\n",
       "        vertical-align: top;\n",
       "    }\n",
       "\n",
       "    .dataframe thead th {\n",
       "        text-align: right;\n",
       "    }\n",
       "</style>\n",
       "<table border=\"1\" class=\"dataframe\">\n",
       "  <thead>\n",
       "    <tr style=\"text-align: right;\">\n",
       "      <th></th>\n",
       "      <th>Block</th>\n",
       "      <th>Value</th>\n",
       "      <th>Txn Fee</th>\n",
       "    </tr>\n",
       "  </thead>\n",
       "  <tbody>\n",
       "    <tr>\n",
       "      <th>count</th>\n",
       "      <td>3.573000e+03</td>\n",
       "      <td>3573.000000</td>\n",
       "      <td>3573.000000</td>\n",
       "    </tr>\n",
       "    <tr>\n",
       "      <th>mean</th>\n",
       "      <td>1.937878e+07</td>\n",
       "      <td>14.236817</td>\n",
       "      <td>0.013202</td>\n",
       "    </tr>\n",
       "    <tr>\n",
       "      <th>std</th>\n",
       "      <td>2.643435e+00</td>\n",
       "      <td>546.468764</td>\n",
       "      <td>0.021732</td>\n",
       "    </tr>\n",
       "    <tr>\n",
       "      <th>min</th>\n",
       "      <td>1.937878e+07</td>\n",
       "      <td>0.000000</td>\n",
       "      <td>0.002682</td>\n",
       "    </tr>\n",
       "    <tr>\n",
       "      <th>25%</th>\n",
       "      <td>1.937878e+07</td>\n",
       "      <td>0.000000</td>\n",
       "      <td>0.002904</td>\n",
       "    </tr>\n",
       "    <tr>\n",
       "      <th>50%</th>\n",
       "      <td>1.937878e+07</td>\n",
       "      <td>0.000000</td>\n",
       "      <td>0.006441</td>\n",
       "    </tr>\n",
       "    <tr>\n",
       "      <th>75%</th>\n",
       "      <td>1.937878e+07</td>\n",
       "      <td>0.100000</td>\n",
       "      <td>0.020349</td>\n",
       "    </tr>\n",
       "    <tr>\n",
       "      <th>max</th>\n",
       "      <td>1.937878e+07</td>\n",
       "      <td>23071.167231</td>\n",
       "      <td>0.371687</td>\n",
       "    </tr>\n",
       "  </tbody>\n",
       "</table>\n",
       "</div>"
      ],
      "text/plain": [
       "              Block         Value      Txn Fee\n",
       "count  3.573000e+03   3573.000000  3573.000000\n",
       "mean   1.937878e+07     14.236817     0.013202\n",
       "std    2.643435e+00    546.468764     0.021732\n",
       "min    1.937878e+07      0.000000     0.002682\n",
       "25%    1.937878e+07      0.000000     0.002904\n",
       "50%    1.937878e+07      0.000000     0.006441\n",
       "75%    1.937878e+07      0.100000     0.020349\n",
       "max    1.937878e+07  23071.167231     0.371687"
      ]
     },
     "execution_count": 19,
     "metadata": {},
     "output_type": "execute_result"
    }
   ],
   "source": [
    "df.describe()"
   ]
  },
  {
   "cell_type": "markdown",
   "id": "0ea10c23",
   "metadata": {},
   "source": [
    "### Data Cleaning"
   ]
  },
  {
   "cell_type": "code",
   "execution_count": 20,
   "id": "ca837f6f",
   "metadata": {},
   "outputs": [],
   "source": [
    "df['Txn Fee'] = pd.to_numeric(df['Txn Fee'], errors='coerce')\n",
    "df['Value'] = pd.to_numeric(df['Value'], errors='coerce')"
   ]
  },
  {
   "cell_type": "code",
   "execution_count": 21,
   "id": "9c86692e",
   "metadata": {},
   "outputs": [],
   "source": [
    "duplicate_rows = df[df.duplicated()]\n",
    "df = df.drop_duplicates()"
   ]
  },
  {
   "cell_type": "code",
   "execution_count": 22,
   "id": "885559cf",
   "metadata": {},
   "outputs": [
    {
     "name": "stderr",
     "output_type": "stream",
     "text": [
      "<>:3: SyntaxWarning: invalid escape sequence '\\d'\n",
      "<>:3: SyntaxWarning: invalid escape sequence '\\d'\n",
      "C:\\Users\\asus\\AppData\\Local\\Temp\\ipykernel_19844\\3736863615.py:3: SyntaxWarning: invalid escape sequence '\\d'\n",
      "  df['Age'] = pd.to_numeric(df['Age'].str.extract('(\\d+)')[0], errors='coerce')\n"
     ]
    }
   ],
   "source": [
    "df = df[(df != 0).all(axis=1)]\n",
    "df = df[df['From'].astype(str) != df['To'].astype(str)]\n",
    "df['Age'] = pd.to_numeric(df['Age'].str.extract('(\\d+)')[0], errors='coerce')"
   ]
  },
  {
   "cell_type": "code",
   "execution_count": 23,
   "id": "b6ae16e2",
   "metadata": {},
   "outputs": [],
   "source": [
    "df = df.drop(['To'], axis=1)\n",
    "df = df.drop(['From'], axis=1)"
   ]
  },
  {
   "cell_type": "code",
   "execution_count": 24,
   "id": "fdb1b029",
   "metadata": {},
   "outputs": [
    {
     "name": "stdout",
     "output_type": "stream",
     "text": [
      "<class 'pandas.core.frame.DataFrame'>\n",
      "Index: 1131 entries, 0 to 3572\n",
      "Data columns (total 6 columns):\n",
      " #   Column    Non-Null Count  Dtype  \n",
      "---  ------    --------------  -----  \n",
      " 0   Txn Hash  1131 non-null   object \n",
      " 1   Method    1131 non-null   object \n",
      " 2   Block     1131 non-null   int64  \n",
      " 3   Age       1131 non-null   int64  \n",
      " 4   Value     1131 non-null   float64\n",
      " 5   Txn Fee   1131 non-null   float64\n",
      "dtypes: float64(2), int64(2), object(2)\n",
      "memory usage: 61.9+ KB\n"
     ]
    }
   ],
   "source": [
    "df.info()"
   ]
  },
  {
   "cell_type": "markdown",
   "id": "b6283f9f",
   "metadata": {},
   "source": [
    "### Statistical Analysis"
   ]
  },
  {
   "cell_type": "code",
   "execution_count": 25,
   "id": "4cb780af",
   "metadata": {},
   "outputs": [
    {
     "name": "stdout",
     "output_type": "stream",
     "text": [
      "Mean Transaction Fee: 0.011045865419982316\n",
      "Standard Deviation of Transaction Fee: 0.025149878082308227\n",
      "Mean Value: 43.032038159950474\n",
      "Standard Deviation of Value: 970.3079943441229\n"
     ]
    }
   ],
   "source": [
    "mean_txn_fee = df['Txn Fee'].mean()\n",
    "std_dev_txn_fee = df['Txn Fee'].std()\n",
    "\n",
    "mean_value = df['Value'].mean()\n",
    "std_dev_value = df['Value'].std()\n",
    "\n",
    "print(f\"Mean Transaction Fee: {mean_txn_fee}\")\n",
    "print(f\"Standard Deviation of Transaction Fee: {std_dev_txn_fee}\")\n",
    "print(f\"Mean Value: {mean_value}\")\n",
    "print(f\"Standard Deviation of Value: {std_dev_value}\")"
   ]
  },
  {
   "cell_type": "markdown",
   "id": "e4e5f61b",
   "metadata": {},
   "source": [
    "### Visualization"
   ]
  },
  {
   "cell_type": "code",
   "execution_count": 26,
   "id": "668e653f",
   "metadata": {},
   "outputs": [],
   "source": [
    "sns.set(style=\"whitegrid\")"
   ]
  },
  {
   "cell_type": "markdown",
   "id": "526fae29",
   "metadata": {},
   "source": [
    "##### Histogram:\n",
    "\n",
    "- **Definition:** A histogram is a graphical representation of the distribution of a dataset. It consists of bars representing the frequencies or relative frequencies of different intervals (bins) of the data.\n",
    "\n",
    "- **Purpose:** It provides a visual representation of the underlying probability distribution of continuous numerical data.\n",
    "\n",
    "- **Key Points:**\n",
    "  - Bar heights represent the frequency or relative frequency of data within each bin.\n",
    "  - Suitable for understanding the shape, center, and spread of a distribution.\n"
   ]
  },
  {
   "cell_type": "code",
   "execution_count": 27,
   "id": "de77768f",
   "metadata": {},
   "outputs": [
    {
     "data": {
      "text/plain": [
       "Text(0.5, 1.0, 'Histogram of Transaction Fee')"
      ]
     },
     "execution_count": 27,
     "metadata": {},
     "output_type": "execute_result"
    },
    {
     "data": {
      "image/png": "[encoded data removed]",
      "text/plain": [
       "<Figure size 1200x600 with 1 Axes>"
      ]
     },
     "metadata": {},
     "output_type": "display_data"
    }
   ],
   "source": [
    "plt.figure(figsize=(12, 6))\n",
    "plt.subplot(2, 2, 1)\n",
    "sns.histplot(df['Txn Fee'], bins=20, kde=True, color='skyblue')\n",
    "plt.title('Histogram of Transaction Fee')"
   ]
  },
  {
   "cell_type": "code",
   "execution_count": 28,
   "id": "614518e4",
   "metadata": {},
   "outputs": [
    {
     "data": {
      "text/plain": [
       "Text(0.5, 1.0, 'Histogram of Value')"
      ]
     },
     "execution_count": 28,
     "metadata": {},
     "output_type": "execute_result"
    },
    {
     "data": {
      "image/png": "[encoded data removed]",
      "text/plain": [
       "<Figure size 640x480 with 1 Axes>"
      ]
     },
     "metadata": {},
     "output_type": "display_data"
    }
   ],
   "source": [
    "plt.subplot(2, 2, 2)\n",
    "sns.histplot(df['Value'], bins=20, kde=True, color='salmon')\n",
    "plt.title('Histogram of Value')"
   ]
  },
  {
   "cell_type": "markdown",
   "id": "3aeec9c8",
   "metadata": {},
   "source": [
    "##### Normal Distribution Plot:\n",
    "\n",
    "- **Representation:** A curve that is symmetric and bell-shaped, representing a normal distribution.\n",
    "\n",
    "- **Purpose:** Visualize how data is distributed assuming a normal distribution.\n",
    "\n",
    "- **Key Points:**\n",
    "  - Bell-shaped curve with a peak at the mean.\n",
    "  - Symmetric around the mean.\n",
    "  - Controlled by mean and standard deviation parameters."
   ]
  },
  {
   "cell_type": "code",
   "execution_count": 29,
   "id": "79026bb8",
   "metadata": {},
   "outputs": [
    {
     "data": {
      "image/png": "[encoded data removed]",
      "text/plain": [
       "<Figure size 640x480 with 2 Axes>"
      ]
     },
     "metadata": {},
     "output_type": "display_data"
    }
   ],
   "source": [
    "plt.subplot(2, 2, 3)\n",
    "sns.histplot(df['Txn Fee'], bins=20, kde=True, color='skyblue', stat='density')\n",
    "sns.kdeplot(df['Txn Fee'], color='darkblue')\n",
    "plt.title('Transaction Fee Distribution with Normal Fit')\n",
    "\n",
    "plt.subplot(2, 2, 4)\n",
    "sns.histplot(df['Value'], bins=20, kde=True, color='salmon', stat='density')\n",
    "sns.kdeplot(df['Value'], color='darkred')\n",
    "plt.title('Value Distribution with Normal Fit')\n",
    "\n",
    "plt.tight_layout()\n",
    "plt.show()"
   ]
  },
  {
   "cell_type": "markdown",
   "id": "8247e3cf",
   "metadata": {},
   "source": [
    "The values ​​are well fitted to the normal distribution. And they are distributed in a much more concentrated way around the mean. which is consistent with our expectation of human performance."
   ]
  },
  {
   "cell_type": "markdown",
   "id": "8e27286c",
   "metadata": {},
   "source": [
    "#### Box Plot (Box-and-Whisker Plot):\n",
    "\n",
    "- **Representation:** A standardized way of displaying the distribution based on a five-number summary.\n",
    "\n",
    "- **Purpose:** Provide a summary of central tendency and spread, highlighting potential outliers.\n",
    "\n",
    "- **Key Points:**\n",
    "  - Box represents interquartile range (IQR) between Q1 and Q3.\n",
    "  - Line inside the box is the median, and \"whiskers\" extend to minimum and maximum values within a certain range.\n",
    "  - Outliers may be plotted individually.\n"
   ]
  },
  {
   "cell_type": "code",
   "execution_count": 30,
   "id": "5eb062cd",
   "metadata": {},
   "outputs": [
    {
     "data": {
      "image/png": "[encoded data removed]",
      "text/plain": [
       "<Figure size 1200x600 with 2 Axes>"
      ]
     },
     "metadata": {},
     "output_type": "display_data"
    }
   ],
   "source": [
    "plt.figure(figsize=(12, 6))\n",
    "plt.subplot(1, 2, 1)\n",
    "sns.boxplot(x=df['Txn Fee'], color='skyblue')\n",
    "plt.title('Box Plot of Transaction Fee')\n",
    "\n",
    "plt.subplot(1, 2, 2)\n",
    "sns.boxplot(x=df['Value'], color='salmon')\n",
    "plt.title('Box Plot of Value')\n",
    "\n",
    "plt.tight_layout()\n",
    "plt.show()"
   ]
  },
  {
   "cell_type": "markdown",
   "id": "cebd0e2b",
   "metadata": {},
   "source": [
    "#### Violin Plot:\n",
    "\n",
    "- **Representation:** A combination of a box plot and a kernel density plot.\n",
    "\n",
    "- **Purpose:** Display the distribution of data across different levels or categories.\n",
    "\n",
    "- **Key Points:**\n",
    "  - Width of the plot represents the density of the data at different values.\n",
    "  - Box plot inside indicates quartiles and median.\n",
    "  - Useful for visualizing both summary statistics and distribution shape.\n"
   ]
  },
  {
   "cell_type": "code",
   "execution_count": 31,
   "id": "8e8320fe",
   "metadata": {},
   "outputs": [
    {
     "data": {
      "image/png": "[encoded data removed]",
      "text/plain": [
       "<Figure size 1200x600 with 2 Axes>"
      ]
     },
     "metadata": {},
     "output_type": "display_data"
    }
   ],
   "source": [
    "plt.figure(figsize=(12, 6))\n",
    "plt.subplot(1, 2, 1)\n",
    "sns.violinplot(x=df['Txn Fee'], color='skyblue')\n",
    "plt.title('Violin Plot of Transaction Fee')\n",
    "\n",
    "plt.subplot(1, 2, 2)\n",
    "sns.violinplot(x=df['Value'], color='salmon')\n",
    "plt.title('Violin Plot of Value')\n",
    "\n",
    "plt.tight_layout()\n",
    "plt.show()"
   ]
  },
  {
   "cell_type": "markdown",
   "id": "87030e5e0b4fe1e6",
   "metadata": {
    "collapsed": false
   },
   "source": [
    "## Data Sampling and Analysis"
   ]
  },
  {
   "cell_type": "code",
   "execution_count": 32,
   "id": "a302be75",
   "metadata": {},
   "outputs": [],
   "source": [
    "IRRELEVANT_COLUMNS = {\"From\", \"To\"}\n",
    "TO_NUMERIC_COLUMNS = {\"Txn Fee\", \"Value\"}\n",
    "SAMPLE_SIZE = int(0.05 * len(df)) #0.05 * total_population"
   ]
  },
  {
   "cell_type": "markdown",
   "id": "d9129f27",
   "metadata": {},
   "source": [
    "### Load Data"
   ]
  },
  {
   "cell_type": "code",
   "execution_count": 33,
   "id": "c06e304a",
   "metadata": {},
   "outputs": [],
   "source": [
    "df = pd.read_csv(FILE_PATH)"
   ]
  },
  {
   "cell_type": "markdown",
   "id": "5a71dfc7",
   "metadata": {},
   "source": [
    "### Data Cleaning"
   ]
  },
  {
   "cell_type": "code",
   "execution_count": 34,
   "id": "ad826809",
   "metadata": {},
   "outputs": [
    {
     "data": {
      "text/html": [
       "<div>\n",
       "<style scoped>\n",
       "    .dataframe tbody tr th:only-of-type {\n",
       "        vertical-align: middle;\n",
       "    }\n",
       "\n",
       "    .dataframe tbody tr th {\n",
       "        vertical-align: top;\n",
       "    }\n",
       "\n",
       "    .dataframe thead th {\n",
       "        text-align: right;\n",
       "    }\n",
       "</style>\n",
       "<table border=\"1\" class=\"dataframe\">\n",
       "  <thead>\n",
       "    <tr style=\"text-align: right;\">\n",
       "      <th></th>\n",
       "      <th>feature</th>\n",
       "      <th>Count</th>\n",
       "      <th>Percent</th>\n",
       "    </tr>\n",
       "  </thead>\n",
       "  <tbody>\n",
       "    <tr>\n",
       "      <th>0</th>\n",
       "      <td>Txn Hash</td>\n",
       "      <td>0</td>\n",
       "      <td>0.0</td>\n",
       "    </tr>\n",
       "    <tr>\n",
       "      <th>1</th>\n",
       "      <td>Method</td>\n",
       "      <td>0</td>\n",
       "      <td>0.0</td>\n",
       "    </tr>\n",
       "    <tr>\n",
       "      <th>2</th>\n",
       "      <td>Block</td>\n",
       "      <td>0</td>\n",
       "      <td>0.0</td>\n",
       "    </tr>\n",
       "    <tr>\n",
       "      <th>3</th>\n",
       "      <td>Age</td>\n",
       "      <td>0</td>\n",
       "      <td>0.0</td>\n",
       "    </tr>\n",
       "    <tr>\n",
       "      <th>4</th>\n",
       "      <td>From</td>\n",
       "      <td>0</td>\n",
       "      <td>0.0</td>\n",
       "    </tr>\n",
       "    <tr>\n",
       "      <th>5</th>\n",
       "      <td>To</td>\n",
       "      <td>0</td>\n",
       "      <td>0.0</td>\n",
       "    </tr>\n",
       "    <tr>\n",
       "      <th>6</th>\n",
       "      <td>Value</td>\n",
       "      <td>0</td>\n",
       "      <td>0.0</td>\n",
       "    </tr>\n",
       "    <tr>\n",
       "      <th>7</th>\n",
       "      <td>Txn Fee</td>\n",
       "      <td>0</td>\n",
       "      <td>0.0</td>\n",
       "    </tr>\n",
       "  </tbody>\n",
       "</table>\n",
       "</div>"
      ],
      "text/plain": [
       "    feature  Count  Percent\n",
       "0  Txn Hash      0      0.0\n",
       "1    Method      0      0.0\n",
       "2     Block      0      0.0\n",
       "3       Age      0      0.0\n",
       "4      From      0      0.0\n",
       "5        To      0      0.0\n",
       "6     Value      0      0.0\n",
       "7   Txn Fee      0      0.0"
      ]
     },
     "execution_count": 34,
     "metadata": {},
     "output_type": "execute_result"
    }
   ],
   "source": [
    "def get_missing_values(df: pd.DataFrame):\n",
    "    total_entities = len(df)\n",
    "    missing_values = df.isna().sum()\n",
    "    missing_proportion = (missing_values / total_entities) * 100\n",
    "    return pd.DataFrame({'feature':missing_values.index, 'Count':missing_values.values, 'Percent':missing_proportion.values})\n",
    "\n",
    "lost_values = get_missing_values(df)\n",
    "lost_values"
   ]
  },
  {
   "cell_type": "markdown",
   "id": "45ea4aac",
   "metadata": {},
   "source": [
    "there is no missing value in this special case."
   ]
  },
  {
   "cell_type": "code",
   "execution_count": 35,
   "id": "01c367f4",
   "metadata": {},
   "outputs": [
    {
     "name": "stderr",
     "output_type": "stream",
     "text": [
      "<>:36: SyntaxWarning: invalid escape sequence '\\d'\n",
      "<>:36: SyntaxWarning: invalid escape sequence '\\d'\n",
      "C:\\Users\\asus\\AppData\\Local\\Temp\\ipykernel_19844\\3731271665.py:36: SyntaxWarning: invalid escape sequence '\\d'\n",
      "  df['Age'] = pd.to_numeric(df['Age'].str.extract('(\\d+)')[0], errors='coerce')\n"
     ]
    }
   ],
   "source": [
    "\n",
    "def handle_missing_data(_df: pd.DataFrame, loss_values_stats: pd.DataFrame, del_threshold: float = 0.5):\n",
    "    mean_kind = ['i', 'f']\n",
    "    mode_kind = ['O']\n",
    "    df = _df.copy(deep=True)\n",
    "    for feature, percent in zip(loss_values_stats['feature'], loss_values_stats['Percent']):\n",
    "        if percent == 0 :\n",
    "            continue\n",
    "        elif percent >= del_threshold * 100:\n",
    "            df.drop(feature, axis=1, inplace=True)\n",
    "        elif df[feature].dtype.kind in mean_kind:\n",
    "            df[feature].fillna(df[feature].mean(), inplace=True)\n",
    "        elif df[feature].dtype.kind in mode_kind:\n",
    "            df[feature].fillna(df[feature].mode()[0], inplace=True)\n",
    "    return df\n",
    "\n",
    "def handel_duplicated_values(df: pd.DataFrame):\n",
    "    df = df.drop_duplicates()\n",
    "    return df\n",
    "\n",
    "def drop_irrelevant_columns(df: pd.DataFrame, irrelevant_columns):\n",
    "    for c in irrelevant_columns:\n",
    "        df = df.drop([c], axis=1)\n",
    "    return df\n",
    "\n",
    "def replace_with_numeric(df: pd.DataFrame, columns):\n",
    "    for c in columns:\n",
    "        df[c] = pd.to_numeric(df[c], errors='coerce')\n",
    "    for c in columns:\n",
    "        mean_value = df[c].mean(skipna=True)\n",
    "        df[c] = pd.to_numeric(df[c], errors='coerce').fillna(mean_value)\n",
    "    return df\n",
    "\n",
    "def special_data_conversion(df):\n",
    "    df = df[(df != 0).all(axis=1)]\n",
    "    df = df[df['From'].astype(str) != df['To'].astype(str)]\n",
    "    df['Age'] = pd.to_numeric(df['Age'].str.extract('(\\d+)')[0], errors='coerce')\n",
    "    return df\n",
    "\n",
    "def cleaning_data(df: pd.DataFrame, irrelevant_columns, lost_values, to_numeric_columns):\n",
    "    fixed = replace_with_numeric(df, to_numeric_columns)\n",
    "    fixed = handle_missing_data(fixed, lost_values)\n",
    "    fixed = special_data_conversion(fixed)\n",
    "    fixed = handel_duplicated_values(fixed)\n",
    "    fixed = drop_irrelevant_columns(fixed, irrelevant_columns)\n",
    "    return fixed\n"
   ]
  },
  {
   "cell_type": "code",
   "execution_count": 36,
   "id": "609992db",
   "metadata": {},
   "outputs": [
    {
     "name": "stdout",
     "output_type": "stream",
     "text": [
      "<class 'pandas.core.frame.DataFrame'>\n",
      "Index: 1131 entries, 0 to 3572\n",
      "Data columns (total 6 columns):\n",
      " #   Column    Non-Null Count  Dtype  \n",
      "---  ------    --------------  -----  \n",
      " 0   Txn Hash  1131 non-null   object \n",
      " 1   Method    1131 non-null   object \n",
      " 2   Block     1131 non-null   int64  \n",
      " 3   Age       1131 non-null   int64  \n",
      " 4   Value     1131 non-null   float64\n",
      " 5   Txn Fee   1131 non-null   float64\n",
      "dtypes: float64(2), int64(2), object(2)\n",
      "memory usage: 61.9+ KB\n"
     ]
    }
   ],
   "source": [
    "df = cleaning_data(df, IRRELEVANT_COLUMNS, lost_values, TO_NUMERIC_COLUMNS)\n",
    "df.info()"
   ]
  },
  {
   "cell_type": "markdown",
   "id": "a1fd6a11",
   "metadata": {},
   "source": [
    "## Sampling Methods"
   ]
  },
  {
   "cell_type": "markdown",
   "id": "b943a493",
   "metadata": {},
   "source": [
    "#### Simple Random Sampling (SRS):\n",
    "- **Functionality:** Involves randomly selecting individuals from the population with an equal probability of being chosen. Every individual has an equal chance of being part of the sample.\n",
    "- **Use Case:** Suitable when the population is homogeneous and no specific characteristics need to be considered in the sampling process.\n",
    "\n",
    "#### Stratified Sampling:\n",
    "- **Functionality:** Divides the population into subgroups (strata) based on certain characteristics. Samples are then independently taken from each stratum. This ensures representation from different subgroups.\n",
    "- **Use Case:** Useful when the population has distinct subgroups with varying characteristics, and you want to ensure each subgroup is adequately represented in the sample.\n",
    "\n",
    "#### Systematic Sampling:\n",
    "- **Functionality:** Involves selecting every kth individual from the population after randomly selecting a starting point. The value of k is determined by dividing the population size by the desired sample size.\n",
    "- **Use Case:** Useful when the population is ordered in some way, and a systematic approach simplifies the sampling process.\n",
    "\n",
    "#### Cluster Sampling:\n",
    "- **Functionality:** Divides the population into clusters, randomly selects some clusters, and then includes all individuals within the selected clusters in the sample.\n",
    "- **Use Case:** Appropriate when the population is naturally divided into clusters, and it is more practical to sample entire clusters rather than individual elements.\n",
    "\n",
    "#### Convenience Sampling:\n",
    "- **Functionality:** Involves selecting individuals who are easiest to reach or readily available. This method is often used for its convenience but may introduce bias.\n",
    "- **Use Case:** Suitable for preliminary research or when access to the entire population is challenging.\n",
    "\n",
    "#### Quota Sampling:\n",
    "- **Functionality:** Similar to stratified sampling, but the researcher sets quotas for each stratum based on certain characteristics. Individuals are then conveniently selected to meet these quotas.\n",
    "- **Use Case:** Useful when specific proportions of the population need to be represented in the sample, but random selection within strata is not feasible.\n"
   ]
  },
  {
   "cell_type": "markdown",
   "id": "27d7c356",
   "metadata": {},
   "source": [
    "If your primary goal is to obtain a broad, representative sample of Etherscan transactions ``without a specific focus`` on distinct subgroups or patterns, `Simple Random Sampling` (SRS) might be a suitable choice. \\\n",
    "If there are ``identifiable subgroups`` in the data that you believe are crucial for analysis, and you want to ensure representation from each subgroup, `Stratified Sampling` could be more appropriate."
   ]
  },
  {
   "cell_type": "markdown",
   "id": "f8a1a37e",
   "metadata": {},
   "source": [
    "### SRS"
   ]
  },
  {
   "cell_type": "code",
   "execution_count": 37,
   "id": "759ff50e",
   "metadata": {},
   "outputs": [
    {
     "name": "stdout",
     "output_type": "stream",
     "text": [
      "<class 'pandas.core.frame.DataFrame'>\n",
      "Index: 56 entries, 2906 to 197\n",
      "Data columns (total 6 columns):\n",
      " #   Column    Non-Null Count  Dtype  \n",
      "---  ------    --------------  -----  \n",
      " 0   Txn Hash  56 non-null     object \n",
      " 1   Method    56 non-null     object \n",
      " 2   Block     56 non-null     int64  \n",
      " 3   Age       56 non-null     int64  \n",
      " 4   Value     56 non-null     float64\n",
      " 5   Txn Fee   56 non-null     float64\n",
      "dtypes: float64(2), int64(2), object(2)\n",
      "memory usage: 3.1+ KB\n"
     ]
    }
   ],
   "source": [
    "srs_sample = df.sample(SAMPLE_SIZE, random_state=42)\n",
    "srs_sample.info()"
   ]
  },
  {
   "cell_type": "markdown",
   "id": "8003f8b6",
   "metadata": {},
   "source": [
    "#### SRS Sampling Size:\n",
    "Determining an appropriate sample size depends on several factors, including the size of the population, the desired level of precision, and the available resources for the study. However, a common rule of thumb is that a sample size of around 5% of the population can often provide reliable results for a wide range of scenarios."
   ]
  },
  {
   "cell_type": "markdown",
   "id": "ac93bb85",
   "metadata": {},
   "source": [
    "### Stratified Sampling"
   ]
  },
  {
   "cell_type": "code",
   "execution_count": 38,
   "id": "ae77896e",
   "metadata": {},
   "outputs": [
    {
     "name": "stdout",
     "output_type": "stream",
     "text": [
      "<class 'pandas.core.frame.DataFrame'>\n",
      "MultiIndex: 56 entries, (19378776, 203) to (19378785, 3455)\n",
      "Data columns (total 6 columns):\n",
      " #   Column    Non-Null Count  Dtype  \n",
      "---  ------    --------------  -----  \n",
      " 0   Txn Hash  56 non-null     object \n",
      " 1   Method    56 non-null     object \n",
      " 2   Block     56 non-null     int64  \n",
      " 3   Age       56 non-null     int64  \n",
      " 4   Value     56 non-null     float64\n",
      " 5   Txn Fee   56 non-null     float64\n",
      "dtypes: float64(2), int64(2), object(2)\n",
      "memory usage: 5.7+ KB\n"
     ]
    },
    {
     "name": "stderr",
     "output_type": "stream",
     "text": [
      "C:\\Users\\asus\\AppData\\Local\\Temp\\ipykernel_19844\\4097226935.py:2: DeprecationWarning: DataFrameGroupBy.apply operated on the grouping columns. This behavior is deprecated, and in a future version of pandas the grouping columns will be excluded from the operation. Either pass `include_groups=False` to exclude the groupings or explicitly select the grouping columns after groupby to silence this warning.\n",
      "  stratified_sample = groups.apply(lambda x: x.sample(n=round(len(x) * SAMPLE_SIZE / len(df)), random_state=42))\n"
     ]
    }
   ],
   "source": [
    "groups = df.groupby('Block')\n",
    "stratified_sample = groups.apply(lambda x: x.sample(n=round(len(x) * SAMPLE_SIZE / len(df)), random_state=42))\n",
    "stratified_sample.info()"
   ]
  },
  {
   "cell_type": "markdown",
   "id": "642f9ccd",
   "metadata": {},
   "source": [
    "### Statistical Analysis"
   ]
  },
  {
   "cell_type": "markdown",
   "id": "75893fe9",
   "metadata": {},
   "source": [
    "If there is less difference, the sampling is more precise"
   ]
  },
  {
   "cell_type": "code",
   "execution_count": 39,
   "id": "b12d1d46",
   "metadata": {},
   "outputs": [
    {
     "name": "stdout",
     "output_type": "stream",
     "text": [
      "SRS Mean: 1.2575599578035714\n",
      "SRS Standard Deviation: 6.661095032547252\n",
      "Stratified Sample Mean: 0.6851191585892857\n",
      "Stratified Sample Standard Deviation: 1.5251736951504393\n",
      "Population Mean: 43.032038159950474\n",
      "Population Standard Deviation: 970.3079943441229\n",
      "------------------------------------------------------------------------------\n",
      "Difference in Mean (SRS vs Population): 41.7744782021469\n",
      "Difference in Mean (Stratified vs Population): 42.34691900136119\n",
      "Difference in Standard Deviation (SRS vs Population): 963.6468993115757\n",
      "Difference in Standard Deviation (Stratified vs Population): 968.7828206489725\n"
     ]
    }
   ],
   "source": [
    "srs_mean = srs_sample['Value'].mean()\n",
    "srs_std = srs_sample['Value'].std()\n",
    "stratified_mean = stratified_sample['Value'].mean()\n",
    "stratified_std = stratified_sample['Value'].std()\n",
    "population_mean = df['Value'].mean()\n",
    "population_std = df['Value'].std()\n",
    "\n",
    "print(f\"SRS Mean: {srs_mean}\")\n",
    "print(f\"SRS Standard Deviation: {srs_std}\")\n",
    "print(f\"Stratified Sample Mean: {stratified_mean}\")\n",
    "print(f\"Stratified Sample Standard Deviation: {stratified_std}\")\n",
    "print(f\"Population Mean: {population_mean}\")\n",
    "print(f\"Population Standard Deviation: {population_std}\")\n",
    "print(\"------------------------------------------------------------------------------\")\n",
    "\n",
    "mean_diff_srs = abs(srs_mean - population_mean)\n",
    "mean_diff_stratified = abs(stratified_mean - population_mean)\n",
    "print(f\"Difference in Mean (SRS vs Population): {mean_diff_srs}\")\n",
    "print(f\"Difference in Mean (Stratified vs Population): {mean_diff_stratified}\")\n",
    "\n",
    "std_diff_srs = abs(srs_std - population_std)\n",
    "std_diff_stratified = abs(stratified_std - population_std)\n",
    "print(f\"Difference in Standard Deviation (SRS vs Population): {std_diff_srs}\")\n",
    "print(f\"Difference in Standard Deviation (Stratified vs Population): {std_diff_stratified}\")"
   ]
  },
  {
   "cell_type": "markdown",
   "id": "cd7d0030",
   "metadata": {},
   "source": [
    "### Visualization"
   ]
  },
  {
   "cell_type": "code",
   "execution_count": 44,
   "id": "8e9cb862",
   "metadata": {},
   "outputs": [
    {
     "data": {
      "image/png": "[encoded data removed]",
      "text/plain": [
       "<Figure size 1200x600 with 4 Axes>"
      ]
     },
     "metadata": {},
     "output_type": "display_data"
    }
   ],
   "source": [
    "plt.figure(figsize=(12, 6))\n",
    "\n",
    "plt.subplot(2, 2, 1)\n",
    "plt.hist(df['Value'], bins=30, alpha=0.5, label='Population')\n",
    "plt.hist(srs_sample['Value'], bins=30, alpha=0.5, label='SRS Sample')\n",
    "plt.hist(stratified_sample['Value'], bins=30, alpha=0.5, label='Stratified Sample')\n",
    "plt.title('Distribution of Transaction Values')\n",
    "plt.xlabel('Transaction Value')\n",
    "plt.ylabel('Frequency')\n",
    "plt.legend()\n",
    "\n",
    "plt.subplot(2, 2, 2)\n",
    "plt.hist(df['Txn Fee'], bins=30, alpha=0.5, label='Population')\n",
    "plt.hist(srs_sample['Txn Fee'], bins=30, alpha=0.5, label='SRS Sample')\n",
    "plt.hist(stratified_sample['Txn Fee'], bins=30, alpha=0.5, label='Stratified Sample')\n",
    "plt.title('Distribution of Txn Fees')\n",
    "plt.xlabel('Txn Fee')\n",
    "plt.ylabel('Frequency')\n",
    "plt.legend()\n",
    "\n",
    "\n",
    "plt.subplot(2, 2, 3)\n",
    "plt.hist(srs_sample['Value'], bins=30, alpha=0.5, label='SRS Sample')\n",
    "plt.hist(stratified_sample['Value'], bins=30, alpha=0.5, label='Stratified Sample')\n",
    "plt.title('Distribution of Transaction Values')\n",
    "plt.xlabel('Transaction Value')\n",
    "plt.ylabel('Frequency')\n",
    "plt.legend()\n",
    "\n",
    "plt.subplot(2, 2, 4)\n",
    "plt.hist(srs_sample['Txn Fee'], bins=30, alpha=0.5, label='SRS Sample')\n",
    "plt.hist(stratified_sample['Txn Fee'], bins=30, alpha=0.5, label='Stratified Sample')\n",
    "plt.title('Distribution of Txn Fees')\n",
    "plt.xlabel('Txn Fee')\n",
    "plt.ylabel('Frequency')\n",
    "plt.legend()\n",
    "\n",
    "plt.tight_layout()\n",
    "plt.show()"
   ]
  },
  {
   "cell_type": "markdown",
   "id": "7734a734",
   "metadata": {},
   "source": [
    "## Questions"
   ]
  },
  {
   "cell_type": "markdown",
   "id": "efcc52d5",
   "metadata": {},
   "source": [
    "### 1. What are some potential limitations when using web scraping for data collection? Specifically, what problems did you face while fetching data from Etherscan? What problems can these limitations cause in your analysis?"
   ]
  },
  {
   "cell_type": "markdown",
   "id": "1296de27",
   "metadata": {},
   "source": [
    "Web scraping is a powerful tool for data collection, but it does come with several limitations:\n",
    "\n",
    "- **Website Structure Changes:** Websites frequently update their structures, which can break your web scraping scripts.\n",
    "- **Complex Websites:** Handling complex websites with dynamic content can be challenging.\n",
    "- **Large Scale Extraction:** Extracting data on a large scale can be difficult and may lead to your IP getting banned by the target website.\n",
    "- **Data Quality and Relevance:** The data collected through web scraping might not always be accurate or relevant."
   ]
  },
  {
   "cell_type": "markdown",
   "id": "ca2b3142",
   "metadata": {},
   "source": [
    "### 2. What can make your analysis untrustworthy? What are your solutions?"
   ]
  },
  {
   "cell_type": "markdown",
   "id": "c1a22fa3",
   "metadata": {},
   "source": [
    "##### Incomplete Data:\n",
    "- **Strategy:** Implement error handling in the scraping process to identify and address missed data points.\n",
    "- **Objective:** Ensure a robust data collection process that captures all relevant information.\n",
    "\n",
    "##### Data Quality Issues:\n",
    "- **Strategy:** Perform thorough data cleaning procedures.\n",
    "- **Approach:**\n",
    "  - Handle missing values appropriately.\n",
    "  - Validate the consistency of the data.\n",
    "- **Objective:** Enhance the overall quality and reliability of the collected data.\n"
   ]
  },
  {
   "cell_type": "markdown",
   "id": "c33fd353",
   "metadata": {},
   "source": [
    "### 3. How did the visualization help you in understanding the data? What could you interpret from the plots?"
   ]
  },
  {
   "cell_type": "markdown",
   "id": "e0e9a1ed",
   "metadata": {},
   "source": [
    "Visualizations provide a clear and intuitive representation of data patterns and distributions.\n",
    "##### Interpretation of Plots:\n",
    "\n",
    "##### Histograms:\n",
    "- **Purpose:** Show the distribution of transaction values.\n",
    "\n",
    "##### Normal Distribution Plots:\n",
    "- **Purpose:** Compare the empirical distribution with a theoretical normal distribution.\n",
    "\n",
    "##### Box Plots and Violin Plots:\n",
    "- **Purpose:** Identify outliers and visualize data distribution.\n"
   ]
  },
  {
   "cell_type": "markdown",
   "id": "7340326e",
   "metadata": {},
   "source": [
    "### 4. How do the two sampling methods differ in their output? Compare these and explain which one is a better fit to the population."
   ]
  },
  {
   "cell_type": "markdown",
   "id": "ed4b1865",
   "metadata": {},
   "source": [
    "Simple Random Sampling (SRS) and Stratified Sampling are both statistical measurement tools used to obtain a sample from a population.\n",
    "\n",
    "- **SRS** is a method where every member of the population has an equal chance of being selected. It’s often used when there is very little information available about the population, or when the population is homogeneous.\n",
    "- **Stratified Sampling**, on the other hand, first divides the population into smaller groups, or strata, based on shared characteristics. Then, samples are taken from each group. This method is beneficial when the population is heterogeneous.\n",
    "\n",
    "The choice between SRS and Stratified Sampling depends on the nature of the population. If the population is homogeneous, SRS could be a better fit. However, if there are clear subgroups in the population that you want to represent in your sample, Stratified Sampling would be more appropriate."
   ]
  }
 ],
 "metadata": {
  "kernelspec": {
   "display_name": "Python 3 (ipykernel)",
   "language": "python",
   "name": "python3"
  },
  "language_info": {
   "codemirror_mode": {
    "name": "ipython",
    "version": 3
   },
   "file_extension": ".py",
   "mimetype": "text/x-python",
   "name": "python",
   "nbconvert_exporter": "python",
   "pygments_lexer": "ipython3",
   "version": "3.10.11"
  }
 },
 "nbformat": 4,
 "nbformat_minor": 5
}
