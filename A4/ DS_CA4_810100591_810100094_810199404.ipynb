{
 "cells": [
  {
   "cell_type": "markdown",
   "metadata": {},
   "source": [
    "# Specific Tasks"
   ]
  },
  {
   "cell_type": "markdown",
   "metadata": {},
   "source": [
    "Data Science - CA#04: *Diabetes Dataset* - Spring 1403 \\\n",
    "In this assignment, we will explore various loss functions and apply gradient descent methods to optimize these functions."
   ]
  },
  {
   "cell_type": "code",
   "execution_count": 43,
   "metadata": {},
   "outputs": [],
   "source": [
    "import numpy as np\n",
    "import pandas as pd\n",
    "from sklearn.datasets import load_diabetes\n",
    "from sklearn.model_selection import train_test_split\n",
    "from sklearn.preprocessing import StandardScaler\n",
    "from sklearn.preprocessing import MinMaxScaler"
   ]
  },
  {
   "cell_type": "markdown",
   "metadata": {},
   "source": [
    "## <center> Warm Up!</center>"
   ]
  },
  {
   "cell_type": "markdown",
   "metadata": {},
   "source": [
    "### Loading the diabetes dataset and displaying the first ten rows of it"
   ]
  },
  {
   "cell_type": "code",
   "execution_count": 44,
   "metadata": {},
   "outputs": [
    {
     "name": "stdout",
     "output_type": "stream",
     "text": [
      "        age       sex       bmi        bp        s1        s2        s3  \\\n",
      "0  0.038076  0.050680  0.061696  0.021872 -0.044223 -0.034821 -0.043401   \n",
      "1 -0.001882 -0.044642 -0.051474 -0.026328 -0.008449 -0.019163  0.074412   \n",
      "2  0.085299  0.050680  0.044451 -0.005670 -0.045599 -0.034194 -0.032356   \n",
      "3 -0.089063 -0.044642 -0.011595 -0.036656  0.012191  0.024991 -0.036038   \n",
      "4  0.005383 -0.044642 -0.036385  0.021872  0.003935  0.015596  0.008142   \n",
      "5 -0.092695 -0.044642 -0.040696 -0.019442 -0.068991 -0.079288  0.041277   \n",
      "6 -0.045472  0.050680 -0.047163 -0.015999 -0.040096 -0.024800  0.000779   \n",
      "7  0.063504  0.050680 -0.001895  0.066629  0.090620  0.108914  0.022869   \n",
      "8  0.041708  0.050680  0.061696 -0.040099 -0.013953  0.006202 -0.028674   \n",
      "9 -0.070900 -0.044642  0.039062 -0.033213 -0.012577 -0.034508 -0.024993   \n",
      "\n",
      "         s4        s5        s6  target  \n",
      "0 -0.002592  0.019907 -0.017646   151.0  \n",
      "1 -0.039493 -0.068332 -0.092204    75.0  \n",
      "2 -0.002592  0.002861 -0.025930   141.0  \n",
      "3  0.034309  0.022688 -0.009362   206.0  \n",
      "4 -0.002592 -0.031988 -0.046641   135.0  \n",
      "5 -0.076395 -0.041176 -0.096346    97.0  \n",
      "6 -0.039493 -0.062917 -0.038357   138.0  \n",
      "7  0.017703 -0.035816  0.003064    63.0  \n",
      "8 -0.002592 -0.014960  0.011349   110.0  \n",
      "9 -0.002592  0.067737 -0.013504   310.0  \n"
     ]
    }
   ],
   "source": [
    "diabetes = load_diabetes()\n",
    " \n",
    "diabetes_df = pd.DataFrame(data=np.c_[diabetes['data'], diabetes['target']], \n",
    "                           columns=diabetes['feature_names'] + ['target'])\n",
    "print(diabetes_df.head(10))\n"
   ]
  },
  {
   "cell_type": "markdown",
   "metadata": {},
   "source": [
    "### Printing the data types of each feature, and Check for any missing values in the dataset"
   ]
  },
  {
   "cell_type": "code",
   "execution_count": 45,
   "metadata": {},
   "outputs": [
    {
     "name": "stdout",
     "output_type": "stream",
     "text": [
      "age       float64\n",
      "sex       float64\n",
      "bmi       float64\n",
      "bp        float64\n",
      "s1        float64\n",
      "s2        float64\n",
      "s3        float64\n",
      "s4        float64\n",
      "s5        float64\n",
      "s6        float64\n",
      "target    float64\n",
      "dtype: object\n",
      "age       0\n",
      "sex       0\n",
      "bmi       0\n",
      "bp        0\n",
      "s1        0\n",
      "s2        0\n",
      "s3        0\n",
      "s4        0\n",
      "s5        0\n",
      "s6        0\n",
      "target    0\n",
      "dtype: int64\n"
     ]
    }
   ],
   "source": [
    "print(diabetes_df.dtypes)\n",
    "\n",
    "print(diabetes_df.isnull().sum())\n"
   ]
  },
  {
   "cell_type": "markdown",
   "metadata": {},
   "source": [
    "### Normalizing the features"
   ]
  },
  {
   "cell_type": "code",
   "execution_count": 46,
   "metadata": {},
   "outputs": [],
   "source": [
    "scaler = MinMaxScaler()\n",
    "diabetes_features_scaled = scaler.fit_transform(diabetes['data'])"
   ]
  },
  {
   "cell_type": "markdown",
   "metadata": {},
   "source": [
    "### Split the data into training and testing sets, and Display the number of instances in both the training and testing datasets"
   ]
  },
  {
   "cell_type": "code",
   "execution_count": 47,
   "metadata": {},
   "outputs": [
    {
     "name": "stdout",
     "output_type": "stream",
     "text": [
      "Number of instances in training set: 353\n",
      "Number of instances in testing set: 89\n"
     ]
    }
   ],
   "source": [
    "X_train, X_test, y_train, y_test = train_test_split(diabetes_features_scaled, \n",
    "                                                    diabetes['target'], \n",
    "                                                    test_size=0.2, \n",
    "                                                    random_state=42)\n",
    "\n",
    "print(\"Number of instances in training set:\", len(X_train))\n",
    "print(\"Number of instances in testing set:\", len(X_test))\n"
   ]
  },
  {
   "cell_type": "markdown",
   "metadata": {},
   "source": [
    "## <center> Main Task </center>"
   ]
  },
  {
   "cell_type": "markdown",
   "metadata": {},
   "source": [
    "### Part1: Functions' Implementation"
   ]
  },
  {
   "cell_type": "markdown",
   "metadata": {},
   "source": [
    "### MSE\n",
    "- Calculate the Mean Squared Error (MSE) between the true labels and predicted labels.\n",
    "- Parameters:\n",
    "y_true : array-like, true labels\n",
    "y_pred : array-like, predicted labels\n",
    "\n",
    "- Returns:\n",
    "mse : float, Mean Squared Error"
   ]
  },
  {
   "cell_type": "code",
   "execution_count": 48,
   "metadata": {},
   "outputs": [],
   "source": [
    "def mean_squared_error(y_true, y_pred):\n",
    "    n = len(y_true)\n",
    "    mse = sum((y_true - y_pred) ** 2) / n\n",
    "    return mse"
   ]
  },
  {
   "cell_type": "markdown",
   "metadata": {},
   "source": [
    "### MAE"
   ]
  },
  {
   "cell_type": "code",
   "execution_count": 49,
   "metadata": {},
   "outputs": [],
   "source": [
    "def mean_absolute_error(y_true, y_pred):\n",
    "    n = len(y_true)\n",
    "    mae = sum(abs(y_true - y_pred)) / n\n",
    "    return mae"
   ]
  },
  {
   "cell_type": "markdown",
   "metadata": {},
   "source": [
    "### RMSE"
   ]
  },
  {
   "cell_type": "code",
   "execution_count": 50,
   "metadata": {},
   "outputs": [],
   "source": [
    "def root_mean_squared_error(y_true, y_pred):\n",
    "    mse = mean_squared_error(y_true, y_pred)\n",
    "    rmse = mse ** 0.5\n",
    "    return rmse"
   ]
  },
  {
   "cell_type": "markdown",
   "metadata": {},
   "source": [
    "### R^2 Score"
   ]
  },
  {
   "cell_type": "code",
   "execution_count": 51,
   "metadata": {},
   "outputs": [],
   "source": [
    "def r2_score(y_true, y_pred):\n",
    "    n = len(y_true)\n",
    "    y_true_mean = sum(y_true) / n\n",
    "    ss_tot = sum((y_true - y_true_mean) ** 2)\n",
    "    ss_res = sum((y_true - y_pred) ** 2)\n",
    "    r2 = 1 - (ss_res / ss_tot)\n",
    "    return r2"
   ]
  },
  {
   "cell_type": "markdown",
   "metadata": {},
   "source": [
    "### Comparing the Implemented Functions and built-in ones from library. Using Generated example data"
   ]
  },
  {
   "cell_type": "code",
   "execution_count": 52,
   "metadata": {},
   "outputs": [],
   "source": [
    "from sklearn.metrics import mean_squared_error as sk_mean_squared_error\n",
    "from sklearn.metrics import mean_absolute_error as sk_mean_absolute_error\n",
    "from sklearn.metrics import r2_score as sk_r2_score\n",
    "import numpy as np"
   ]
  },
  {
   "cell_type": "code",
   "execution_count": 53,
   "metadata": {},
   "outputs": [
    {
     "name": "stdout",
     "output_type": "stream",
     "text": [
      "Metric          Custom       Scikit-learn\n",
      "MSE:           0.17931033775488267    0.17931033775488264\n",
      "MAE:           0.3541220765893817    0.3541220765893819\n",
      "RMSE:          0.4234505139386215    0.42345051393862143\n",
      "R² Score:      -1.0465723875642996    -1.0465723875642987\n"
     ]
    }
   ],
   "source": [
    "np.random.seed(42)\n",
    "y_true = np.random.rand(100)\n",
    "y_pred = np.random.rand(100)\n",
    "\n",
    "\n",
    "custom_mse, custom_mae, custom_rmse, custom_r2 = mean_squared_error(y_true, y_pred), mean_absolute_error(y_true, y_pred), root_mean_squared_error(y_true, y_pred), r2_score(y_true, y_pred)\n",
    "sklearn_mse, sklearn_mae, sklearn_r2 = sk_mean_squared_error(y_true, y_pred), sk_mean_absolute_error(y_true, y_pred), sk_r2_score(y_true, y_pred)\n",
    "\n",
    "print(\"Metric          Custom       Scikit-learn\")\n",
    "print(\"MSE:          \", custom_mse, \"  \", sklearn_mse)\n",
    "print(\"MAE:          \", custom_mae, \"  \", sklearn_mae)\n",
    "print(\"RMSE:         \", custom_rmse, \"  \", np.sqrt(sklearn_mse))\n",
    "print(\"R² Score:     \", custom_r2, \"  \", sklearn_r2)\n"
   ]
  },
  {
   "cell_type": "markdown",
   "metadata": {},
   "source": [
    "### Part 2:  Building and Training the Linear Regression Model"
   ]
  },
  {
   "cell_type": "code",
   "execution_count": 54,
   "metadata": {},
   "outputs": [
    {
     "name": "stdout",
     "output_type": "stream",
     "text": [
      "Mean Squared Error (MSE): 2900.1936284934804\n",
      "Mean Absolute Error (MAE): 42.79409467959992\n",
      "Root Mean Squared Error (RMSE): 53.85344583676592\n",
      "R² Score (Coefficient of Determination): 0.4526027629719196\n"
     ]
    }
   ],
   "source": [
    "from sklearn.linear_model import LinearRegression\n",
    "\n",
    "# Create and train the linear regression model\n",
    "model = LinearRegression()\n",
    "model.fit(X_train, y_train)\n",
    "\n",
    "# Predict on the test set\n",
    "y_pred = model.predict(X_test)\n",
    "\n",
    "# Evaluate the model\n",
    "mse = mean_squared_error(y_test, y_pred)\n",
    "mae = mean_absolute_error(y_test, y_pred)\n",
    "rmse= root_mean_squared_error(y_test, y_pred)\n",
    "r2 = r2_score(y_test, y_pred)\n",
    "\n",
    "print(\"Mean Squared Error (MSE):\", mse)\n",
    "print(\"Mean Absolute Error (MAE):\", mae)\n",
    "print(\"Root Mean Squared Error (RMSE):\", rmse)\n",
    "print(\"R² Score (Coefficient of Determination):\", r2)\n"
   ]
  },
  {
   "cell_type": "markdown",
   "metadata": {},
   "source": [
    "### Part 3: Model Evaluation"
   ]
  },
  {
   "cell_type": "code",
   "execution_count": 55,
   "metadata": {
    "scrolled": false
   },
   "outputs": [
    {
     "data": {
      "image/png": "[encoded data removed]",
      "text/plain": [
       "<Figure size 800x600 with 1 Axes>"
      ]
     },
     "metadata": {},
     "output_type": "display_data"
    },
    {
     "name": "stdout",
     "output_type": "stream",
     "text": [
      "Evaluation on Training Data:\n",
      "MSE: 2868.54970283558\n",
      "MAE: 43.48350352398038\n",
      "RMSE: 53.55884336723096\n",
      "R² Score: 0.5279193863361498\n",
      "\n",
      "Evaluation on Testing Data:\n",
      "MSE: 2900.1936284934804\n",
      "MAE: 42.79409467959992\n",
      "RMSE: 53.85344583676592\n",
      "R² Score: 0.4526027629719196\n"
     ]
    }
   ],
   "source": [
    "import matplotlib.pyplot as plt\n",
    "\n",
    "# Scatter plot of actual vs predicted values\n",
    "plt.figure(figsize=(8, 6))\n",
    "plt.scatter(y_test, y_pred, color='blue', alpha=0.5)\n",
    "plt.plot([min(y_test), max(y_test)], [min(y_test), max(y_test)], color='red', linestyle='--')\n",
    "plt.title('Actual vs Predicted Progression Measures')\n",
    "plt.xlabel('Actual Progression Measures')\n",
    "plt.ylabel('Predicted Progression Measures')\n",
    "plt.grid(True)\n",
    "plt.show()\n",
    "\n",
    "# Evaluate the regression model on training data\n",
    "y_train_pred = model.predict(X_train)\n",
    "train_mse = mean_squared_error(y_train, y_train_pred)\n",
    "train_mae = mean_absolute_error(y_train, y_train_pred)\n",
    "train_rmse = np.sqrt(train_mse)\n",
    "train_r2 = r2_score(y_train, y_train_pred)\n",
    "\n",
    "print(\"Evaluation on Training Data:\")\n",
    "print(\"MSE:\", train_mse)\n",
    "print(\"MAE:\", train_mae)\n",
    "print(\"RMSE:\", train_rmse)\n",
    "print(\"R² Score:\", train_r2)\n",
    "print()\n",
    "\n",
    "# Evaluate the regression model on testing data\n",
    "test_mse = mean_squared_error(y_test, y_pred)\n",
    "test_mae = mean_absolute_error(y_test, y_pred)\n",
    "test_rmse = np.sqrt(test_mse)\n",
    "test_r2 = r2_score(y_test, y_pred)\n",
    "\n",
    "print(\"Evaluation on Testing Data:\")\n",
    "print(\"MSE:\", test_mse)\n",
    "print(\"MAE:\", test_mae)\n",
    "print(\"RMSE:\", test_rmse)\n",
    "print(\"R² Score:\", test_r2)\n"
   ]
  },
  {
   "cell_type": "markdown",
   "metadata": {},
   "source": [
    "### Part 4: Ordinary Least Squares"
   ]
  },
  {
   "cell_type": "code",
   "execution_count": 56,
   "metadata": {},
   "outputs": [
    {
     "name": "stdout",
     "output_type": "stream",
     "text": [
      "                            OLS Regression Results                            \n",
      "==============================================================================\n",
      "Dep. Variable:                      y   R-squared:                       0.518\n",
      "Model:                            OLS   Adj. R-squared:                  0.507\n",
      "Method:                 Least Squares   F-statistic:                     46.27\n",
      "Date:                Wed, 24 Apr 2024   Prob (F-statistic):           3.83e-62\n",
      "Time:                        17:43:44   Log-Likelihood:                -2386.0\n",
      "No. Observations:                 442   AIC:                             4794.\n",
      "Df Residuals:                     431   BIC:                             4839.\n",
      "Df Model:                          10                                         \n",
      "Covariance Type:            nonrobust                                         \n",
      "==============================================================================\n",
      "                 coef    std err          t      P>|t|      [0.025      0.975]\n",
      "------------------------------------------------------------------------------\n",
      "const        152.1335      2.576     59.061      0.000     147.071     157.196\n",
      "x1           -10.0099     59.749     -0.168      0.867    -127.446     107.426\n",
      "x2          -239.8156     61.222     -3.917      0.000    -360.147    -119.484\n",
      "x3           519.8459     66.533      7.813      0.000     389.076     650.616\n",
      "x4           324.3846     65.422      4.958      0.000     195.799     452.970\n",
      "x5          -792.1756    416.680     -1.901      0.058   -1611.153      26.802\n",
      "x6           476.7390    339.030      1.406      0.160    -189.620    1143.098\n",
      "x7           101.0433    212.531      0.475      0.635    -316.684     518.770\n",
      "x8           177.0632    161.476      1.097      0.273    -140.315     494.441\n",
      "x9           751.2737    171.900      4.370      0.000     413.407    1089.140\n",
      "x10           67.6267     65.984      1.025      0.306     -62.064     197.318\n",
      "==============================================================================\n",
      "Omnibus:                        1.506   Durbin-Watson:                   2.029\n",
      "Prob(Omnibus):                  0.471   Jarque-Bera (JB):                1.404\n",
      "Skew:                           0.017   Prob(JB):                        0.496\n",
      "Kurtosis:                       2.726   Cond. No.                         227.\n",
      "==============================================================================\n",
      "\n",
      "Notes:\n",
      "[1] Standard Errors assume that the covariance matrix of the errors is correctly specified.\n"
     ]
    }
   ],
   "source": [
    "import statsmodels.api as sm\n",
    "from statsmodels.regression.linear_model import OLS\n",
    "\n",
    "X, y = load_diabetes(return_X_y=True)\n",
    "X = sm.add_constant(X)\n",
    "\n",
    "ols_model = OLS(y, X).fit()\n",
    "print(ols_model.summary())"
   ]
  },
  {
   "cell_type": "markdown",
   "metadata": {},
   "source": [
    "## <center>Questions</center>"
   ]
  },
  {
   "cell_type": "markdown",
   "metadata": {},
   "source": [
    " ### 1. Analyze and evaluate the values in Table (1)."
   ]
  },
  {
   "cell_type": "markdown",
   "metadata": {},
   "source": [
    "Mean Squared Error (MSE):\n",
    "This is the average square difference between predicted and actual values in the dataset. A smaller MSE implies better predictions. Training Data MSE: 2868.55, Testing Data MSE: 2900.20. Since the testing MSE is marginally larger than the training MSE, there isn't strong evidence of overfitting; however, room for improvement exists, particularly reducing generalization error.\n",
    " \n",
    "Mean Absolute Error (MAE):\n",
    "It denotes the absolute difference between observed and forecasted values without taking the square root. MAEs closer to zero indicate superior performance. Training Data MAE: 43.48, Testing Data MAE: 42.80. Test set MAE has decreased slightly, still exhibiting similar trends to those seen in MSE, though less sensitive to outliers due to its non-square nature.\n",
    "\n",
    "Root Mean Squared Error (RMSE):\n",
    "RMSE is simply the square root of the MSE, offering comparable units to original outcome variables. Typically, lower RMSE demonstrates enhanced accuracy. Training Data RMSE: 53.56, Testing Data RMSE: 53.85. Here, test set RMSE surpasses the training set's, reflecting a decline in overall performance.\n",
    "\n",
    "R² Score (Coefficient of Determination):\n",
    "This statistic ranges from 0 to 1, measuring the proportion of explained variability by the model against ground truth. Higher values suggest better fits. Training Data R² Score: 0.53, Testing Data R² Score: 0.45.There is a noticeable drop in the testing R² score, illustrating reduced generalizability and possible overfitting.\n",
    "\n",
    "Although there aren't extreme differences between training and testing sets for most metrics, the decline in performance across them raises concerns about model robustness and ability to generalize unseen data effectively."
   ]
  },
  {
   "cell_type": "markdown",
   "metadata": {},
   "source": [
    "### 2. Review the R² and Adjusted R² values obtained in part 4. Explain what these values indicate and what the implications of high or low values might be. Also, discuss the differences between these two metrics."
   ]
  },
  {
   "cell_type": "markdown",
   "metadata": {},
   "source": [
    "  The R-squared (also called coefficient of determination) and the adjusted R-squared are statistical measures used in evaluating the goodness of fit of a regression line. They both range from 0 to 1, where higher values indicate better fits. However, they differ in their interpretation and sensitivity towards adding more predictors.\n",
    "\n",
    "**R-Squared:** This metric represents the proportion of variance in the dependent variable explained by the independent variables. In other words, R-squared indicates the percentage variation in target variable which has been captured by our model. An R-squared value close to 1 suggests that most of the variation in the response variable is accounted for by the explanatory variables while a value near zero implies that none of the variations in the response variable could be attributed to the predictor variables. formula:\n",
    "$$ R^2=1−\\frac{SStot}{SSres} $$\n",
    "where SSres is residual sum of squares and SStot is total sum of squares.\n",
    "\n",
    "In our case, **R-squared = 0.518**, meaning around 52% of the total variability observed in the dependent variable is being explained by the independent variables present in the model. While it isn't bad, there is still scope for improvement. You may consider incorporating additional relevant features or performing dimensionality reduction if required.\n",
    "\n",
    "**Adjusted R-Squared:** Although increasing the number of predictors improves the model performance measured by R-squared, sometimes it happens due to overfitting rather than actual improvement. To avoid penalizing models having fewer parameters, the concept of Adjusted R-squared was introduced. The formula adjusts the R-squared based on the sample size and the number of predictors involved. As a result, when new insignificant terms are added to the model, adjusted R-squared decreases instead of increasing like R-squared. Therefore, compared to R-squared, Adjusted R-squared prefers parsimonious models (i.e., simpler models), hence controlling overfitting issues. formula:\n",
    "$$ \\bar{R}^2=1−(1−R^2)\\frac{(n−p−1)}{(n−1)} $$\n",
    "where nn is the number of samples and pp is the number of predictors.\n",
    "\n",
    "In our case, **Adjusted R-squared = 0.507**. Compared to R-squared, this value is slightly lower but closer to unadjusted R-squared. Given that only a few parameters were estimated in our model, the difference between the two values is relatively small. Nevertheless, choosing a smaller set of significant predictors would improve the adjusted R-squared further without compromising much on the overall model performance.\n",
    "\n",
    "To summarize, although R-squared and Adjusted R-squared both measure the goodness-of-fit, the latter accounts for the complexity induced by extra predictors and discourages overfitting. So always keep track of both metrics during model building exercises."
   ]
  },
  {
   "cell_type": "markdown",
   "metadata": {},
   "source": [
    "### 3. Review the p-values obtained in part 4 for each column of data and explain what these values indicate. Discuss what an appropriate value for p-values is and which columns currently have suitable values."
   ]
  },
  {
   "cell_type": "markdown",
   "metadata": {},
   "source": [
    "  The p-values shown in the output represent the probability of obtaining test results at least as extreme as the results actually observed, under the assumption that the null hypothesis is correct. In other words, if the p-value is small enough, say less than 0.05, we reject the null hypothesis and conclude that there is evidence supporting a nonzero correlation between the variable and the response variable. Conversely, if the p-value is large, say greater than 0.05, we fail to reject the null hypothesis and conclude that there is insufficient evidence to support a nonzero correlation between the variable and the response variable.\n",
    "\n",
    "In the given output, the p-values corresponding to columns x1, x7, x8, and x10 are larger than 0.05 while those corresponding to const, x2, x3, x4, x5, and x9 are smaller than 0.05. This suggests that the variables represented by columns x2, x3, x4, x5, and x9 have significant effects on the response variable after accounting for the effect due to randomness. On the other hand, the variables represented by columns x1, x7, x8, and x10 may be considered unimportant in predicting the response variable based on the current data. However, one should note that these conclusions might change when additional data becomes available.\n",
    "\n",
    "An \"appropriate\" value for p-values depends on the context and desired level of significance. A common convention used in many fields is to set a threshold of 0.05. That being said, it is essential to understand that setting the threshold too high could lead to false negatives whereas setting it too low could result in false positives. Therefore, selecting a reasonable cutoff requires careful consideration and domain knowledge about the problem at hand. Additionally, even when some variables show no statistically significant relationship with the target variable, they still might contain valuable information for modeling purposes, so excluding them solely based on the p-value might not always be advisable."
   ]
  },
  {
   "cell_type": "markdown",
   "metadata": {},
   "source": [
    "### 4. Assess and analyze the importance of each feature in the dataset based on the results obtained in part 4 regarding an individual's diabetic condition."
   ]
  },
  {
   "cell_type": "markdown",
   "metadata": {},
   "source": [
    " Based on the results obtained from the Ordinary Least Squares (OLS) regression analysis, let us assess and analyze the relative importance of each feature in predicting an individual's diabetic condition. The coefficients and their corresponding p-values provide insights into which factors are significant and contribute more towards explaining variation in the dependent variable (i.e., target variable representing an individual's diabetic condition).\n",
    "\n",
    "1. Intercept: This represents the expected mean response when all other independent variables are zero. In this case, it indicates the average diabetic condition score if all explanatory variables take values of zero, which may not be practically meaningful but helps establish the reference point for comparison.\n",
    "2. Age (x1): Not statistically significant at a typical significance level of 0.05 (p-value > 0.05), indicating age might not play a crucial role in determining the diabetic condition. However, one should consider potential collinearity issues while drawing conclusions about insignificant variables.\n",
    "3. Sex (x2): Statistically significant (p-value < 0.001) with a negative coefficient suggesting lower diabetic conditions scores among female individuals compared to male counterparts.\n",
    "4. BMI (x3): Highly statistically significant (p-value < 0.001) having a positive relationship with the diabetic condition score. Increasing body mass index appears to worsen the diabetic state.\n",
    "5. Average Blood Pressure (x4): Significant (p-value < 0.001) with a positive association implying higher blood pressure levels lead to worse diabetic conditions.\n",
    "6. Total Cholesterol (tc) (x5): Nearly statistically significant (p-value ~ 0.058) having a negative impact on the diabetic condition. Lower cholesterol levels tend to increase the risk of poorer diabetic outcomes slightly.\n",
    "7. Low-Density Lipoprotein (ldl) (x6): Not statistically significant at a typical significance level of 0.05 (p-value > 0.05), suggesting that LDL does not significantly influence the diabetic condition.\n",
    "8. High-Density Lipoprotein (hdl) (x7): Neither statistically significant nor contributing much to the explanation of variance given its small magnitude compared to others.\n",
    "9. TC/HDL ratio (x8): Similar to x7, neither statistically significant nor playing a substantial role in explaining variations in the diabetic condition.\n",
    "10. Log Serum Triglyceride Level (ltg) (x9): Strongly statistically significant (p-value < 0.001) showing a clear positive link between increased triglyceride levels and adverse diabetic consequences.\n",
    "11. Glucose (glu) (x10): Moderately statistically significant (p-value < 0.05) with a positive effect size, meaning that greater blood sugar levels correspond to worse diabetic states.\n",
    "\n",
    "In conclusion, sex, BMI, average blood pressure, TC/HDL ratio, and log serum triglyceride level appear to be relatively more important predictors amongst these ten baseline variables. While some measures like total cholesterol and glucose show modest effects, they remain relevant considering their biological connection to diabetes. On the other hand, certain factors such as HDL and LDL don't seem to carry considerable weight in influencing an individual's diabetic condition within the context of this particular dataset."
   ]
  }
 ],
 "metadata": {
  "kernelspec": {
   "display_name": "Python 3 (ipykernel)",
   "language": "python",
   "name": "python3"
  },
  "language_info": {
   "codemirror_mode": {
    "name": "ipython",
    "version": 3
   },
   "file_extension": ".py",
   "mimetype": "text/x-python",
   "name": "python",
   "nbconvert_exporter": "python",
   "pygments_lexer": "ipython3",
   "version": "3.10.11"
  }
 },
 "nbformat": 4,
 "nbformat_minor": 2
}
