{
  "cells": [
    {
      "cell_type": "markdown",
      "metadata": {
        "id": "GEAxIUDM8FHv"
      },
      "source": [
        "# Project - Phase 2"
      ]
    },
    {
      "cell_type": "markdown",
      "metadata": {
        "id": "hx5vmZUl8FDP"
      },
      "source": [
        "## Part 1: Preprocessing\n",
        "This part was already doen in phase 1. So we just load the preprocessed dataframe here."
      ]
    },
    {
      "cell_type": "code",
      "execution_count": 1,
      "metadata": {
        "id": "S4is-uVx73at"
      },
      "outputs": [],
      "source": [
        "import pandas as pd\n",
        "import seaborn as sns\n",
        "import matplotlib.pyplot as plt\n",
        "import matplotlib.colors as mcolors\n",
        "from sklearn.metrics import roc_curve, auc\n",
        "from sklearn.metrics import classification_report , ConfusionMatrixDisplay, confusion_matrix"
      ]
    },
    {
      "cell_type": "code",
      "execution_count": 2,
      "metadata": {
        "colab": {
          "base_uri": "https://localhost:8080/"
        },
        "id": "rm8lbbIB5USe",
        "outputId": "ece48383-d2b2-4f30-9aa2-7d2b35f64218"
      },
      "outputs": [],
      "source": [
        "FILE_PATH = 'df_encoded.csv'\n",
        "PALETTE = [ \"#023E8A\", \"#0077B6\", \"#00B4D8\", \"#90E0EF\", \"#FFB3C6\", \"#FF8FAB\", \"#FB6F92\" ]\n",
        "COLOR_MAP = sns.color_palette(palette=PALETTE, as_cmap=True)\n",
        "LABELS = ['Not Reached', 'Reached']"
      ]
    },
    {
      "cell_type": "code",
      "execution_count": 3,
      "metadata": {
        "id": "n7iQjB836nHa"
      },
      "outputs": [],
      "source": [
        "df = pd.read_csv(FILE_PATH)"
      ]
    },
    {
      "cell_type": "code",
      "execution_count": 4,
      "metadata": {
        "colab": {
          "base_uri": "https://localhost:8080/",
          "height": 226
        },
        "id": "qO9RoSkcA_su",
        "outputId": "bcf160f8-59f9-4f72-c703-929b1b92d1bf"
      },
      "outputs": [
        {
          "data": {
            "text/html": [
              "<div>\n",
              "<style scoped>\n",
              "    .dataframe tbody tr th:only-of-type {\n",
              "        vertical-align: middle;\n",
              "    }\n",
              "\n",
              "    .dataframe tbody tr th {\n",
              "        vertical-align: top;\n",
              "    }\n",
              "\n",
              "    .dataframe thead th {\n",
              "        text-align: right;\n",
              "    }\n",
              "</style>\n",
              "<table border=\"1\" class=\"dataframe\">\n",
              "  <thead>\n",
              "    <tr style=\"text-align: right;\">\n",
              "      <th></th>\n",
              "      <th>Customer_care_calls</th>\n",
              "      <th>Customer_rating</th>\n",
              "      <th>Cost_of_the_Product</th>\n",
              "      <th>Prior_purchases</th>\n",
              "      <th>Product_importance</th>\n",
              "      <th>Gender</th>\n",
              "      <th>Discount_offered</th>\n",
              "      <th>Weight_in_gms</th>\n",
              "      <th>Reached.on.Time_Y.N</th>\n",
              "      <th>Warehouse_block_A</th>\n",
              "      <th>Warehouse_block_B</th>\n",
              "      <th>Warehouse_block_C</th>\n",
              "      <th>Warehouse_block_D</th>\n",
              "      <th>Warehouse_block_F</th>\n",
              "      <th>Mode_of_Shipment_Flight</th>\n",
              "      <th>Mode_of_Shipment_Road</th>\n",
              "      <th>Mode_of_Shipment_Ship</th>\n",
              "      <th>cost_of_the_product_per_gram</th>\n",
              "      <th>cost_with_discount</th>\n",
              "    </tr>\n",
              "  </thead>\n",
              "  <tbody>\n",
              "    <tr>\n",
              "      <th>0</th>\n",
              "      <td>-0.047711</td>\n",
              "      <td>0.25</td>\n",
              "      <td>-0.690722</td>\n",
              "      <td>-0.372735</td>\n",
              "      <td>0</td>\n",
              "      <td>0</td>\n",
              "      <td>1.889983</td>\n",
              "      <td>-1.468240</td>\n",
              "      <td>1</td>\n",
              "      <td>0</td>\n",
              "      <td>0</td>\n",
              "      <td>0</td>\n",
              "      <td>1</td>\n",
              "      <td>0</td>\n",
              "      <td>1</td>\n",
              "      <td>0</td>\n",
              "      <td>0</td>\n",
              "      <td>0.470442</td>\n",
              "      <td>0.614731</td>\n",
              "    </tr>\n",
              "    <tr>\n",
              "      <th>1</th>\n",
              "      <td>-0.047711</td>\n",
              "      <td>1.00</td>\n",
              "      <td>0.120746</td>\n",
              "      <td>-1.029424</td>\n",
              "      <td>0</td>\n",
              "      <td>1</td>\n",
              "      <td>2.815636</td>\n",
              "      <td>-0.333893</td>\n",
              "      <td>1</td>\n",
              "      <td>0</td>\n",
              "      <td>0</td>\n",
              "      <td>0</td>\n",
              "      <td>0</td>\n",
              "      <td>1</td>\n",
              "      <td>1</td>\n",
              "      <td>0</td>\n",
              "      <td>0</td>\n",
              "      <td>-0.361629</td>\n",
              "      <td>-0.219230</td>\n",
              "    </tr>\n",
              "    <tr>\n",
              "      <th>2</th>\n",
              "      <td>-1.799887</td>\n",
              "      <td>0.25</td>\n",
              "      <td>-0.565881</td>\n",
              "      <td>0.283954</td>\n",
              "      <td>0</td>\n",
              "      <td>1</td>\n",
              "      <td>2.136824</td>\n",
              "      <td>-0.159002</td>\n",
              "      <td>1</td>\n",
              "      <td>1</td>\n",
              "      <td>0</td>\n",
              "      <td>0</td>\n",
              "      <td>0</td>\n",
              "      <td>0</td>\n",
              "      <td>1</td>\n",
              "      <td>0</td>\n",
              "      <td>0</td>\n",
              "      <td>3.558949</td>\n",
              "      <td>0.643307</td>\n",
              "    </tr>\n",
              "    <tr>\n",
              "      <th>3</th>\n",
              "      <td>-0.923799</td>\n",
              "      <td>0.50</td>\n",
              "      <td>-0.711529</td>\n",
              "      <td>0.283954</td>\n",
              "      <td>1</td>\n",
              "      <td>1</td>\n",
              "      <td>-0.208162</td>\n",
              "      <td>-1.502484</td>\n",
              "      <td>1</td>\n",
              "      <td>0</td>\n",
              "      <td>1</td>\n",
              "      <td>0</td>\n",
              "      <td>0</td>\n",
              "      <td>0</td>\n",
              "      <td>1</td>\n",
              "      <td>0</td>\n",
              "      <td>0</td>\n",
              "      <td>0.473568</td>\n",
              "      <td>-0.859642</td>\n",
              "    </tr>\n",
              "    <tr>\n",
              "      <th>4</th>\n",
              "      <td>-1.799887</td>\n",
              "      <td>0.25</td>\n",
              "      <td>-0.545074</td>\n",
              "      <td>-0.372735</td>\n",
              "      <td>1</td>\n",
              "      <td>0</td>\n",
              "      <td>2.013404</td>\n",
              "      <td>-0.703244</td>\n",
              "      <td>1</td>\n",
              "      <td>0</td>\n",
              "      <td>0</td>\n",
              "      <td>1</td>\n",
              "      <td>0</td>\n",
              "      <td>0</td>\n",
              "      <td>1</td>\n",
              "      <td>0</td>\n",
              "      <td>0</td>\n",
              "      <td>0.775085</td>\n",
              "      <td>0.552380</td>\n",
              "    </tr>\n",
              "  </tbody>\n",
              "</table>\n",
              "</div>"
            ],
            "text/plain": [
              "   Customer_care_calls  Customer_rating  Cost_of_the_Product  Prior_purchases  \\\n",
              "0            -0.047711             0.25            -0.690722        -0.372735   \n",
              "1            -0.047711             1.00             0.120746        -1.029424   \n",
              "2            -1.799887             0.25            -0.565881         0.283954   \n",
              "3            -0.923799             0.50            -0.711529         0.283954   \n",
              "4            -1.799887             0.25            -0.545074        -0.372735   \n",
              "\n",
              "   Product_importance  Gender  Discount_offered  Weight_in_gms  \\\n",
              "0                   0       0          1.889983      -1.468240   \n",
              "1                   0       1          2.815636      -0.333893   \n",
              "2                   0       1          2.136824      -0.159002   \n",
              "3                   1       1         -0.208162      -1.502484   \n",
              "4                   1       0          2.013404      -0.703244   \n",
              "\n",
              "   Reached.on.Time_Y.N  Warehouse_block_A  Warehouse_block_B  \\\n",
              "0                    1                  0                  0   \n",
              "1                    1                  0                  0   \n",
              "2                    1                  1                  0   \n",
              "3                    1                  0                  1   \n",
              "4                    1                  0                  0   \n",
              "\n",
              "   Warehouse_block_C  Warehouse_block_D  Warehouse_block_F  \\\n",
              "0                  0                  1                  0   \n",
              "1                  0                  0                  1   \n",
              "2                  0                  0                  0   \n",
              "3                  0                  0                  0   \n",
              "4                  1                  0                  0   \n",
              "\n",
              "   Mode_of_Shipment_Flight  Mode_of_Shipment_Road  Mode_of_Shipment_Ship  \\\n",
              "0                        1                      0                      0   \n",
              "1                        1                      0                      0   \n",
              "2                        1                      0                      0   \n",
              "3                        1                      0                      0   \n",
              "4                        1                      0                      0   \n",
              "\n",
              "   cost_of_the_product_per_gram  cost_with_discount  \n",
              "0                      0.470442            0.614731  \n",
              "1                     -0.361629           -0.219230  \n",
              "2                      3.558949            0.643307  \n",
              "3                      0.473568           -0.859642  \n",
              "4                      0.775085            0.552380  "
            ]
          },
          "execution_count": 4,
          "metadata": {},
          "output_type": "execute_result"
        }
      ],
      "source": [
        "df.head(5)"
      ]
    },
    {
      "cell_type": "markdown",
      "metadata": {
        "id": "3ULegSO-8EXb"
      },
      "source": [
        "In this step, first we handled missing values and there was no missing value. Then we checked if there is any duplicate rows and there was none. After that we handled the object data. Object data with two categories such as gender where divided to 0 and 1 (0 for male, 1 for female). For product_importance since there are three levels of importance we assigned 0 to low 1 to medium and 2 to high. For other object data we used one-hot encoding. Then we checked if there are any redundant features by calculating the correlation between each two features. if the correlation was above 0.9 we dropped one of the feature columns. For features scaling we used MinMaxScaler for customer_rating column because this column is from 0 to 5 and since then minimum and maximum are specified we can use MinMaxScaler. for other numerical features we use standardScalar so that the mean of each column is 0 and this standard deviation is 1. We also dropped the ID column."
      ]
    },
    {
      "cell_type": "markdown",
      "metadata": {
        "id": "9bwJl-0nBOg-"
      },
      "source": [
        "## Part 2: Feature Engineering and Selection\n",
        "In the previous phase we added 2 additional columns called `cost_of_the_product_per_gram` and `cost_with_discount`. Here is the importance of each feature:"
      ]
    },
    {
      "cell_type": "code",
      "execution_count": 5,
      "metadata": {
        "id": "8ve4FMRUApXA"
      },
      "outputs": [],
      "source": [
        "from sklearn.ensemble import RandomForestClassifier\n",
        "import numpy as np\n",
        "\n",
        "X = df.drop(columns=['Reached.on.Time_Y.N'])\n",
        "y = df['Reached.on.Time_Y.N']\n",
        "\n",
        "model = RandomForestClassifier()\n",
        "model.fit(X, y)\n",
        "\n",
        "importances = model.feature_importances_\n",
        "feature_importances = pd.DataFrame({'feature': X.columns, 'importance': importances})\n",
        "\n",
        "# Sort features by importance\n",
        "feature_importances = feature_importances.sort_values('importance', ascending=False)\n",
        "\n",
        "# Select the top 10 most important features\n",
        "top_10_features = feature_importances.head(5)\n",
        "X_selected = X[top_10_features['feature']]"
      ]
    },
    {
      "cell_type": "code",
      "execution_count": 6,
      "metadata": {
        "colab": {
          "base_uri": "https://localhost:8080/",
          "height": 383
        },
        "id": "4PoT53gZ3Aih",
        "outputId": "4a4df8e0-2bae-44e2-c8a5-cb431c54df5a"
      },
      "outputs": [
        {
          "data": {
            "text/html": [
              "<div>\n",
              "<style scoped>\n",
              "    .dataframe tbody tr th:only-of-type {\n",
              "        vertical-align: middle;\n",
              "    }\n",
              "\n",
              "    .dataframe tbody tr th {\n",
              "        vertical-align: top;\n",
              "    }\n",
              "\n",
              "    .dataframe thead th {\n",
              "        text-align: right;\n",
              "    }\n",
              "</style>\n",
              "<table border=\"1\" class=\"dataframe\">\n",
              "  <thead>\n",
              "    <tr style=\"text-align: right;\">\n",
              "      <th></th>\n",
              "      <th>feature</th>\n",
              "      <th>importance</th>\n",
              "    </tr>\n",
              "  </thead>\n",
              "  <tbody>\n",
              "    <tr>\n",
              "      <th>7</th>\n",
              "      <td>Weight_in_gms</td>\n",
              "      <td>0.197352</td>\n",
              "    </tr>\n",
              "    <tr>\n",
              "      <th>6</th>\n",
              "      <td>Discount_offered</td>\n",
              "      <td>0.176261</td>\n",
              "    </tr>\n",
              "    <tr>\n",
              "      <th>16</th>\n",
              "      <td>cost_of_the_product_per_gram</td>\n",
              "      <td>0.136548</td>\n",
              "    </tr>\n",
              "    <tr>\n",
              "      <th>17</th>\n",
              "      <td>cost_with_discount</td>\n",
              "      <td>0.119243</td>\n",
              "    </tr>\n",
              "    <tr>\n",
              "      <th>2</th>\n",
              "      <td>Cost_of_the_Product</td>\n",
              "      <td>0.112873</td>\n",
              "    </tr>\n",
              "    <tr>\n",
              "      <th>3</th>\n",
              "      <td>Prior_purchases</td>\n",
              "      <td>0.043766</td>\n",
              "    </tr>\n",
              "    <tr>\n",
              "      <th>1</th>\n",
              "      <td>Customer_rating</td>\n",
              "      <td>0.043323</td>\n",
              "    </tr>\n",
              "    <tr>\n",
              "      <th>0</th>\n",
              "      <td>Customer_care_calls</td>\n",
              "      <td>0.039747</td>\n",
              "    </tr>\n",
              "    <tr>\n",
              "      <th>4</th>\n",
              "      <td>Product_importance</td>\n",
              "      <td>0.024027</td>\n",
              "    </tr>\n",
              "    <tr>\n",
              "      <th>5</th>\n",
              "      <td>Gender</td>\n",
              "      <td>0.018408</td>\n",
              "    </tr>\n",
              "  </tbody>\n",
              "</table>\n",
              "</div>"
            ],
            "text/plain": [
              "                         feature  importance\n",
              "7                  Weight_in_gms    0.197352\n",
              "6               Discount_offered    0.176261\n",
              "16  cost_of_the_product_per_gram    0.136548\n",
              "17            cost_with_discount    0.119243\n",
              "2            Cost_of_the_Product    0.112873\n",
              "3                Prior_purchases    0.043766\n",
              "1                Customer_rating    0.043323\n",
              "0            Customer_care_calls    0.039747\n",
              "4             Product_importance    0.024027\n",
              "5                         Gender    0.018408"
            ]
          },
          "execution_count": 6,
          "metadata": {},
          "output_type": "execute_result"
        }
      ],
      "source": [
        "feature_importances.head(10)"
      ]
    },
    {
      "cell_type": "markdown",
      "metadata": {
        "id": "P8lhmzxZEU_s"
      },
      "source": [
        "## Part 3: Dimensionality Reduction"
      ]
    },
    {
      "cell_type": "code",
      "execution_count": 7,
      "metadata": {
        "colab": {
          "base_uri": "https://localhost:8080/"
        },
        "id": "vTBIWxWrCS78",
        "outputId": "f8604c6f-e0c0-4322-adde-59a189470109"
      },
      "outputs": [
        {
          "name": "stdout",
          "output_type": "stream",
          "text": [
            "        PC1       PC2\n",
            "0 -2.601475 -0.422066\n",
            "1 -3.433563  0.221762\n",
            "2  0.487126  0.263074\n",
            "3 -2.598377  0.925277\n",
            "4 -2.296782  0.268660\n",
            "5 -2.332281  1.369854\n",
            "6 -4.144288 -1.215788\n",
            "7 -4.006753  0.271482\n",
            "8 -1.916759  1.831890\n",
            "9 -2.429569  0.472596\n",
            "Total Explained Variance by the two principal components: 100.00%\n"
          ]
        }
      ],
      "source": [
        "from sklearn.preprocessing import StandardScaler\n",
        "from sklearn.decomposition import PCA\n",
        "\n",
        "numerical_features = ['Customer_care_calls', 'Customer_rating', 'Cost_of_the_Product',\n",
        "                      'Prior_purchases', 'Discount_offered', 'Weight_in_gms', 'cost_of_the_product_per_gram',\t'cost_with_discount']\n",
        "\n",
        "pca = PCA(n_components=2)\n",
        "pca_transformed = pca.fit_transform(df[numerical_features])\n",
        "\n",
        "explained_variance = pca.explained_variance_ratio_\n",
        "pca_df = pd.DataFrame(data=pca_transformed, columns=['PC1', 'PC2'])\n",
        "\n",
        "print(pca_df.head(10))\n",
        "print(f\"Total Explained Variance by the two principal components: {explained_variance.sum() * 100:.2f}%\")\n",
        "pca_df.to_csv('pca_df.csv', index=False)"
      ]
    },
    {
      "cell_type": "markdown",
      "metadata": {
        "id": "IYcvrLs8G7hW"
      },
      "source": [
        "100% of the initial data variance is transferred to the new space"
      ]
    },
    {
      "cell_type": "code",
      "execution_count": 8,
      "metadata": {
        "colab": {
          "base_uri": "https://localhost:8080/"
        },
        "id": "Xhw1k8nZGYxW",
        "outputId": "eabb4037-663a-4c5f-b271-23ea1a981872"
      },
      "outputs": [
        {
          "data": {
            "text/plain": [
              "1"
            ]
          },
          "execution_count": 8,
          "metadata": {},
          "output_type": "execute_result"
        }
      ],
      "source": [
        "cumulative_variance = pca.explained_variance_ratio_.cumsum()\n",
        "n_components_95_variance = (cumulative_variance >= 0.95).argmax() + 1\n",
        "n_components_95_variance"
      ]
    },
    {
      "cell_type": "markdown",
      "metadata": {
        "id": "wpxp0CP1KuL9"
      },
      "source": [
        "To retain 95% of the original variance, the minimum number of dimensions\n",
        "required in the new space is 1."
      ]
    },
    {
      "cell_type": "markdown",
      "metadata": {
        "id": "xtZhtcDGMBJL"
      },
      "source": [
        "## Part 4: Evaluation Metric\n",
        "This is a classification problem with the goal to predict whether a product will reach on time based on the given features. Hence, the metrics we decided to use are:\n",
        "  - F1-Score: Given it balances precision and recall, it's effective for scenarios where both false positives and false negatives are important.\n",
        "  - ROC-AUC: To assess the overall performance of the classifier, particularly with imbalanced classes.\n",
        "  - Confusion Matrix: To understand the true positives, true negatives, false positives, and false negatives, providing insight into where the model is making errors.\n",
        "  - Precision and Recall: To individually evaluate the classifier's performance on positive predictions and actual positives"
      ]
    },
    {
      "cell_type": "markdown",
      "metadata": {
        "id": "mpaQ4u8SN9IV"
      },
      "source": [
        "## Part 5: Model Training"
      ]
    },
    {
      "cell_type": "code",
      "execution_count": 9,
      "metadata": {},
      "outputs": [],
      "source": [
        "from sklearn.model_selection import train_test_split\n",
        "X_train, X_test, y_train, y_test = train_test_split(X_selected, y, test_size=0.2, random_state=42)\n",
        "y_train = y_train.values\n",
        "y_test = y_test.values"
      ]
    },
    {
      "cell_type": "markdown",
      "metadata": {},
      "source": [
        "### Method One: Neural Network"
      ]
    },
    {
      "cell_type": "code",
      "execution_count": 10,
      "metadata": {},
      "outputs": [],
      "source": [
        "import tensorflow as tf\n",
        "from tensorflow.keras.models import Sequential\n",
        "from tensorflow.keras.layers import Dense, Dropout\n",
        "from tensorflow.keras.callbacks import EarlyStopping"
      ]
    },
    {
      "cell_type": "code",
      "execution_count": 11,
      "metadata": {
        "colab": {
          "base_uri": "https://localhost:8080/"
        },
        "id": "_VABSkJqH4Bk",
        "outputId": "a4ea2db3-363e-4037-8664-b7ec69fc2b90"
      },
      "outputs": [
        {
          "name": "stdout",
          "output_type": "stream",
          "text": [
            "Epoch 1/100\n"
          ]
        },
        {
          "name": "stderr",
          "output_type": "stream",
          "text": [
            "/Library/Frameworks/Python.framework/Versions/3.10/lib/python3.10/site-packages/keras/src/layers/core/dense.py:87: UserWarning: Do not pass an `input_shape`/`input_dim` argument to a layer. When using Sequential models, prefer using an `Input(shape)` object as the first layer in the model instead.\n",
            "  super().__init__(activity_regularizer=activity_regularizer, **kwargs)\n"
          ]
        },
        {
          "name": "stdout",
          "output_type": "stream",
          "text": [
            "\u001b[1m220/220\u001b[0m \u001b[32m━━━━━━━━━━━━━━━━━━━━\u001b[0m\u001b[37m\u001b[0m \u001b[1m1s\u001b[0m 690us/step - accuracy: 0.5697 - loss: 1.4964 - val_accuracy: 0.6722 - val_loss: 0.5229\n",
            "Epoch 2/100\n",
            "\u001b[1m220/220\u001b[0m \u001b[32m━━━━━━━━━━━━━━━━━━━━\u001b[0m\u001b[37m\u001b[0m \u001b[1m0s\u001b[0m 434us/step - accuracy: 0.6564 - loss: 0.5328 - val_accuracy: 0.6778 - val_loss: 0.5140\n",
            "Epoch 3/100\n",
            "\u001b[1m220/220\u001b[0m \u001b[32m━━━━━━━━━━━━━━━━━━━━\u001b[0m\u001b[37m\u001b[0m \u001b[1m0s\u001b[0m 451us/step - accuracy: 0.6629 - loss: 0.5246 - val_accuracy: 0.6869 - val_loss: 0.5096\n",
            "Epoch 4/100\n",
            "\u001b[1m220/220\u001b[0m \u001b[32m━━━━━━━━━━━━━━━━━━━━\u001b[0m\u001b[37m\u001b[0m \u001b[1m0s\u001b[0m 675us/step - accuracy: 0.6634 - loss: 0.5248 - val_accuracy: 0.6790 - val_loss: 0.5100\n",
            "Epoch 5/100\n",
            "\u001b[1m220/220\u001b[0m \u001b[32m━━━━━━━━━━━━━━━━━━━━\u001b[0m\u001b[37m\u001b[0m \u001b[1m0s\u001b[0m 510us/step - accuracy: 0.6588 - loss: 0.5193 - val_accuracy: 0.6847 - val_loss: 0.5064\n",
            "Epoch 6/100\n",
            "\u001b[1m220/220\u001b[0m \u001b[32m━━━━━━━━━━━━━━━━━━━━\u001b[0m\u001b[37m\u001b[0m \u001b[1m0s\u001b[0m 424us/step - accuracy: 0.6625 - loss: 0.5194 - val_accuracy: 0.6903 - val_loss: 0.5061\n",
            "Epoch 7/100\n",
            "\u001b[1m220/220\u001b[0m \u001b[32m━━━━━━━━━━━━━━━━━━━━\u001b[0m\u001b[37m\u001b[0m \u001b[1m0s\u001b[0m 422us/step - accuracy: 0.6771 - loss: 0.5132 - val_accuracy: 0.6892 - val_loss: 0.5036\n",
            "Epoch 8/100\n",
            "\u001b[1m220/220\u001b[0m \u001b[32m━━━━━━━━━━━━━━━━━━━━\u001b[0m\u001b[37m\u001b[0m \u001b[1m0s\u001b[0m 426us/step - accuracy: 0.6634 - loss: 0.5180 - val_accuracy: 0.6881 - val_loss: 0.5038\n",
            "Epoch 9/100\n",
            "\u001b[1m220/220\u001b[0m \u001b[32m━━━━━━━━━━━━━━━━━━━━\u001b[0m\u001b[37m\u001b[0m \u001b[1m0s\u001b[0m 431us/step - accuracy: 0.6621 - loss: 0.5205 - val_accuracy: 0.6909 - val_loss: 0.5033\n",
            "Epoch 10/100\n",
            "\u001b[1m220/220\u001b[0m \u001b[32m━━━━━━━━━━━━━━━━━━━━\u001b[0m\u001b[37m\u001b[0m \u001b[1m0s\u001b[0m 603us/step - accuracy: 0.6822 - loss: 0.5073 - val_accuracy: 0.6898 - val_loss: 0.5021\n",
            "Epoch 11/100\n",
            "\u001b[1m220/220\u001b[0m \u001b[32m━━━━━━━━━━━━━━━━━━━━\u001b[0m\u001b[37m\u001b[0m \u001b[1m0s\u001b[0m 424us/step - accuracy: 0.6785 - loss: 0.5113 - val_accuracy: 0.6926 - val_loss: 0.5030\n",
            "Epoch 12/100\n",
            "\u001b[1m220/220\u001b[0m \u001b[32m━━━━━━━━━━━━━━━━━━━━\u001b[0m\u001b[37m\u001b[0m \u001b[1m0s\u001b[0m 429us/step - accuracy: 0.6748 - loss: 0.5109 - val_accuracy: 0.6915 - val_loss: 0.5015\n",
            "Epoch 13/100\n",
            "\u001b[1m220/220\u001b[0m \u001b[32m━━━━━━━━━━━━━━━━━━━━\u001b[0m\u001b[37m\u001b[0m \u001b[1m0s\u001b[0m 451us/step - accuracy: 0.6781 - loss: 0.5109 - val_accuracy: 0.6955 - val_loss: 0.5008\n",
            "Epoch 14/100\n",
            "\u001b[1m220/220\u001b[0m \u001b[32m━━━━━━━━━━━━━━━━━━━━\u001b[0m\u001b[37m\u001b[0m \u001b[1m0s\u001b[0m 455us/step - accuracy: 0.6688 - loss: 0.5107 - val_accuracy: 0.6960 - val_loss: 0.5017\n",
            "Epoch 15/100\n",
            "\u001b[1m220/220\u001b[0m \u001b[32m━━━━━━━━━━━━━━━━━━━━\u001b[0m\u001b[37m\u001b[0m \u001b[1m0s\u001b[0m 449us/step - accuracy: 0.6758 - loss: 0.5124 - val_accuracy: 0.6972 - val_loss: 0.4998\n",
            "Epoch 16/100\n",
            "\u001b[1m220/220\u001b[0m \u001b[32m━━━━━━━━━━━━━━━━━━━━\u001b[0m\u001b[37m\u001b[0m \u001b[1m0s\u001b[0m 449us/step - accuracy: 0.6738 - loss: 0.5089 - val_accuracy: 0.6966 - val_loss: 0.5011\n",
            "Epoch 17/100\n",
            "\u001b[1m220/220\u001b[0m \u001b[32m━━━━━━━━━━━━━━━━━━━━\u001b[0m\u001b[37m\u001b[0m \u001b[1m0s\u001b[0m 444us/step - accuracy: 0.6678 - loss: 0.5106 - val_accuracy: 0.6960 - val_loss: 0.5010\n",
            "Epoch 18/100\n",
            "\u001b[1m220/220\u001b[0m \u001b[32m━━━━━━━━━━━━━━━━━━━━\u001b[0m\u001b[37m\u001b[0m \u001b[1m0s\u001b[0m 448us/step - accuracy: 0.6850 - loss: 0.5088 - val_accuracy: 0.6977 - val_loss: 0.5000\n",
            "Epoch 19/100\n",
            "\u001b[1m220/220\u001b[0m \u001b[32m━━━━━━━━━━━━━━━━━━━━\u001b[0m\u001b[37m\u001b[0m \u001b[1m0s\u001b[0m 439us/step - accuracy: 0.6792 - loss: 0.5078 - val_accuracy: 0.6955 - val_loss: 0.4995\n",
            "Epoch 20/100\n",
            "\u001b[1m220/220\u001b[0m \u001b[32m━━━━━━━━━━━━━━━━━━━━\u001b[0m\u001b[37m\u001b[0m \u001b[1m0s\u001b[0m 432us/step - accuracy: 0.6861 - loss: 0.5094 - val_accuracy: 0.6977 - val_loss: 0.4996\n",
            "Epoch 21/100\n",
            "\u001b[1m220/220\u001b[0m \u001b[32m━━━━━━━━━━━━━━━━━━━━\u001b[0m\u001b[37m\u001b[0m \u001b[1m0s\u001b[0m 427us/step - accuracy: 0.6827 - loss: 0.5085 - val_accuracy: 0.6966 - val_loss: 0.5003\n",
            "Epoch 22/100\n",
            "\u001b[1m220/220\u001b[0m \u001b[32m━━━━━━━━━━━━━━━━━━━━\u001b[0m\u001b[37m\u001b[0m \u001b[1m0s\u001b[0m 447us/step - accuracy: 0.6793 - loss: 0.5044 - val_accuracy: 0.6983 - val_loss: 0.5006\n",
            "Epoch 23/100\n",
            "\u001b[1m220/220\u001b[0m \u001b[32m━━━━━━━━━━━━━━━━━━━━\u001b[0m\u001b[37m\u001b[0m \u001b[1m0s\u001b[0m 456us/step - accuracy: 0.6772 - loss: 0.5119 - val_accuracy: 0.6943 - val_loss: 0.4993\n",
            "Epoch 24/100\n",
            "\u001b[1m220/220\u001b[0m \u001b[32m━━━━━━━━━━━━━━━━━━━━\u001b[0m\u001b[37m\u001b[0m \u001b[1m0s\u001b[0m 455us/step - accuracy: 0.6761 - loss: 0.5121 - val_accuracy: 0.6949 - val_loss: 0.4988\n",
            "Epoch 25/100\n",
            "\u001b[1m220/220\u001b[0m \u001b[32m━━━━━━━━━━━━━━━━━━━━\u001b[0m\u001b[37m\u001b[0m \u001b[1m0s\u001b[0m 459us/step - accuracy: 0.6734 - loss: 0.5128 - val_accuracy: 0.6949 - val_loss: 0.4978\n",
            "Epoch 26/100\n",
            "\u001b[1m220/220\u001b[0m \u001b[32m━━━━━━━━━━━━━━━━━━━━\u001b[0m\u001b[37m\u001b[0m \u001b[1m0s\u001b[0m 795us/step - accuracy: 0.6825 - loss: 0.5056 - val_accuracy: 0.6966 - val_loss: 0.4976\n",
            "Epoch 27/100\n",
            "\u001b[1m220/220\u001b[0m \u001b[32m━━━━━━━━━━━━━━━━━━━━\u001b[0m\u001b[37m\u001b[0m \u001b[1m0s\u001b[0m 428us/step - accuracy: 0.6835 - loss: 0.4981 - val_accuracy: 0.6949 - val_loss: 0.4977\n",
            "Epoch 28/100\n",
            "\u001b[1m220/220\u001b[0m \u001b[32m━━━━━━━━━━━━━━━━━━━━\u001b[0m\u001b[37m\u001b[0m \u001b[1m0s\u001b[0m 444us/step - accuracy: 0.6777 - loss: 0.5043 - val_accuracy: 0.6955 - val_loss: 0.4974\n",
            "Epoch 29/100\n",
            "\u001b[1m220/220\u001b[0m \u001b[32m━━━━━━━━━━━━━━━━━━━━\u001b[0m\u001b[37m\u001b[0m \u001b[1m0s\u001b[0m 446us/step - accuracy: 0.6723 - loss: 0.5078 - val_accuracy: 0.6977 - val_loss: 0.4974\n",
            "Epoch 30/100\n",
            "\u001b[1m220/220\u001b[0m \u001b[32m━━━━━━━━━━━━━━━━━━━━\u001b[0m\u001b[37m\u001b[0m \u001b[1m0s\u001b[0m 445us/step - accuracy: 0.6835 - loss: 0.5011 - val_accuracy: 0.6955 - val_loss: 0.4973\n",
            "Epoch 31/100\n",
            "\u001b[1m220/220\u001b[0m \u001b[32m━━━━━━━━━━━━━━━━━━━━\u001b[0m\u001b[37m\u001b[0m \u001b[1m0s\u001b[0m 426us/step - accuracy: 0.6786 - loss: 0.5101 - val_accuracy: 0.6972 - val_loss: 0.4967\n",
            "Epoch 32/100\n",
            "\u001b[1m220/220\u001b[0m \u001b[32m━━━━━━━━━━━━━━━━━━━━\u001b[0m\u001b[37m\u001b[0m \u001b[1m0s\u001b[0m 422us/step - accuracy: 0.6790 - loss: 0.5061 - val_accuracy: 0.6960 - val_loss: 0.4962\n",
            "Epoch 33/100\n",
            "\u001b[1m220/220\u001b[0m \u001b[32m━━━━━━━━━━━━━━━━━━━━\u001b[0m\u001b[37m\u001b[0m \u001b[1m0s\u001b[0m 419us/step - accuracy: 0.6751 - loss: 0.5020 - val_accuracy: 0.6983 - val_loss: 0.4972\n",
            "Epoch 34/100\n",
            "\u001b[1m220/220\u001b[0m \u001b[32m━━━━━━━━━━━━━━━━━━━━\u001b[0m\u001b[37m\u001b[0m \u001b[1m0s\u001b[0m 419us/step - accuracy: 0.6806 - loss: 0.4966 - val_accuracy: 0.6943 - val_loss: 0.4957\n",
            "Epoch 35/100\n",
            "\u001b[1m220/220\u001b[0m \u001b[32m━━━━━━━━━━━━━━━━━━━━\u001b[0m\u001b[37m\u001b[0m \u001b[1m0s\u001b[0m 417us/step - accuracy: 0.6707 - loss: 0.5044 - val_accuracy: 0.6960 - val_loss: 0.4950\n",
            "Epoch 36/100\n",
            "\u001b[1m220/220\u001b[0m \u001b[32m━━━━━━━━━━━━━━━━━━━━\u001b[0m\u001b[37m\u001b[0m \u001b[1m0s\u001b[0m 418us/step - accuracy: 0.6688 - loss: 0.5082 - val_accuracy: 0.6960 - val_loss: 0.4954\n",
            "Epoch 37/100\n",
            "\u001b[1m220/220\u001b[0m \u001b[32m━━━━━━━━━━━━━━━━━━━━\u001b[0m\u001b[37m\u001b[0m \u001b[1m0s\u001b[0m 414us/step - accuracy: 0.6766 - loss: 0.4990 - val_accuracy: 0.6977 - val_loss: 0.4971\n",
            "Epoch 38/100\n",
            "\u001b[1m220/220\u001b[0m \u001b[32m━━━━━━━━━━━━━━━━━━━━\u001b[0m\u001b[37m\u001b[0m \u001b[1m0s\u001b[0m 416us/step - accuracy: 0.6791 - loss: 0.5046 - val_accuracy: 0.6994 - val_loss: 0.4960\n",
            "Epoch 39/100\n",
            "\u001b[1m220/220\u001b[0m \u001b[32m━━━━━━━━━━━━━━━━━━━━\u001b[0m\u001b[37m\u001b[0m \u001b[1m0s\u001b[0m 417us/step - accuracy: 0.6793 - loss: 0.5105 - val_accuracy: 0.6972 - val_loss: 0.4973\n",
            "Epoch 40/100\n",
            "\u001b[1m220/220\u001b[0m \u001b[32m━━━━━━━━━━━━━━━━━━━━\u001b[0m\u001b[37m\u001b[0m \u001b[1m0s\u001b[0m 415us/step - accuracy: 0.6621 - loss: 0.5165 - val_accuracy: 0.6960 - val_loss: 0.4962\n",
            "Epoch 41/100\n",
            "\u001b[1m220/220\u001b[0m \u001b[32m━━━━━━━━━━━━━━━━━━━━\u001b[0m\u001b[37m\u001b[0m \u001b[1m0s\u001b[0m 413us/step - accuracy: 0.6786 - loss: 0.5022 - val_accuracy: 0.6949 - val_loss: 0.4961\n",
            "Epoch 42/100\n",
            "\u001b[1m220/220\u001b[0m \u001b[32m━━━━━━━━━━━━━━━━━━━━\u001b[0m\u001b[37m\u001b[0m \u001b[1m0s\u001b[0m 418us/step - accuracy: 0.6795 - loss: 0.5048 - val_accuracy: 0.6977 - val_loss: 0.4956\n",
            "Epoch 43/100\n",
            "\u001b[1m220/220\u001b[0m \u001b[32m━━━━━━━━━━━━━━━━━━━━\u001b[0m\u001b[37m\u001b[0m \u001b[1m0s\u001b[0m 416us/step - accuracy: 0.6803 - loss: 0.5071 - val_accuracy: 0.6983 - val_loss: 0.4956\n",
            "Epoch 44/100\n",
            "\u001b[1m220/220\u001b[0m \u001b[32m━━━━━━━━━━━━━━━━━━━━\u001b[0m\u001b[37m\u001b[0m \u001b[1m0s\u001b[0m 592us/step - accuracy: 0.6793 - loss: 0.5062 - val_accuracy: 0.6972 - val_loss: 0.4991\n",
            "Epoch 45/100\n",
            "\u001b[1m220/220\u001b[0m \u001b[32m━━━━━━━━━━━━━━━━━━━━\u001b[0m\u001b[37m\u001b[0m \u001b[1m0s\u001b[0m 413us/step - accuracy: 0.6709 - loss: 0.5071 - val_accuracy: 0.6972 - val_loss: 0.4977\n"
          ]
        }
      ],
      "source": [
        "model = Sequential([\n",
        "    Dense(64, activation='relu', input_shape=(X_train.shape[1],)),\n",
        "    Dropout(0.3),\n",
        "    Dense(32, activation='relu'),\n",
        "    Dropout(0.3),\n",
        "    Dense(16, activation='relu'),\n",
        "    Dense(1, activation='sigmoid')\n",
        "])\n",
        "\n",
        "model.compile(optimizer='adam', loss='binary_crossentropy', metrics=['accuracy'])\n",
        "\n",
        "early_stopping = EarlyStopping(monitor='val_loss', patience=10, restore_best_weights=True)\n",
        "history = model.fit(X_train, y_train, epochs=100, validation_split=0.2, batch_size=32, callbacks=[early_stopping], verbose=1)\n"
      ]
    },
    {
      "cell_type": "code",
      "execution_count": 12,
      "metadata": {
        "colab": {
          "base_uri": "https://localhost:8080/"
        },
        "id": "2nPymGdlOdKu",
        "outputId": "63e1c579-1cff-44fa-92d6-fa9452831ec0"
      },
      "outputs": [
        {
          "name": "stdout",
          "output_type": "stream",
          "text": [
            "\u001b[1m69/69\u001b[0m \u001b[32m━━━━━━━━━━━━━━━━━━━━\u001b[0m\u001b[37m\u001b[0m \u001b[1m0s\u001b[0m 272us/step - accuracy: 0.6823 - loss: 0.5036\n",
            "Test Loss: 0.5026869773864746\n",
            "Test Accuracy: 0.6850000023841858\n",
            "\u001b[1m69/69\u001b[0m \u001b[32m━━━━━━━━━━━━━━━━━━━━\u001b[0m\u001b[37m\u001b[0m \u001b[1m0s\u001b[0m 415us/step\n",
            "              precision    recall  f1-score   support\n",
            "\n",
            " Not Reached       0.57      0.97      0.71       895\n",
            "     Reached       0.96      0.49      0.65      1305\n",
            "\n",
            "    accuracy                           0.69      2200\n",
            "   macro avg       0.76      0.73      0.68      2200\n",
            "weighted avg       0.80      0.69      0.68      2200\n",
            "\n",
            "ROC AUC : 0.73\n"
          ]
        }
      ],
      "source": [
        "test_loss, test_accuracy = model.evaluate(X_test, y_test, verbose=1)\n",
        "print(f'Test Loss: {test_loss}')\n",
        "print(f'Test Accuracy: {test_accuracy}')\n",
        "\n",
        "\n",
        "y_pred_prob = model.predict(X_test)\n",
        "y_pred = (y_pred_prob > 0.5).astype(int)\n",
        "\n",
        "report = classification_report(y_test, y_pred, target_names=LABELS)\n",
        "print(report)\n",
        "fpr, tpr, thresholds = roc_curve(y_test, y_pred, pos_label=1)\n",
        "print('ROC AUC : %.2f' % auc(fpr, tpr))"
      ]
    },
    {
      "cell_type": "code",
      "execution_count": 13,
      "metadata": {
        "colab": {
          "base_uri": "https://localhost:8080/",
          "height": 1000
        },
        "id": "YvlrzeX2OxsD",
        "outputId": "a83378fe-92ee-4e86-b0a8-7a927618a1b1"
      },
      "outputs": [
        {
          "data": {
            "image/png": "[encoded data removed]",
            "text/plain": [
              "<Figure size 1200x600 with 1 Axes>"
            ]
          },
          "metadata": {},
          "output_type": "display_data"
        },
        {
          "data": {
            "image/png": "[encoded data removed]",
            "text/plain": [
              "<Figure size 1200x600 with 1 Axes>"
            ]
          },
          "metadata": {},
          "output_type": "display_data"
        }
      ],
      "source": [
        "\n",
        "plt.figure(figsize=(12, 6))\n",
        "plt.plot(history.history['loss'], PALETTE[0], label='Train Loss')\n",
        "plt.plot(history.history['val_loss'], PALETTE[6], label='Validation Loss')\n",
        "plt.title('Model Loss')\n",
        "plt.ylabel('Loss')\n",
        "plt.xlabel('Epoch')\n",
        "plt.legend(loc='upper right')\n",
        "plt.show()\n",
        "\n",
        "\n",
        "plt.figure(figsize=(12, 6))\n",
        "plt.plot(history.history['accuracy'], PALETTE[0], label='Train Accuracy')\n",
        "plt.plot(history.history['val_accuracy'], PALETTE[6], label='Validation Accuracy')\n",
        "plt.title('Model Accuracy')\n",
        "plt.ylabel('Accuracy')\n",
        "plt.xlabel('Epoch')\n",
        "plt.legend(loc='upper left')\n",
        "plt.show()\n"
      ]
    },
    {
      "cell_type": "code",
      "execution_count": 14,
      "metadata": {},
      "outputs": [
        {
          "data": {
            "image/png": "[encoded data removed]",
            "text/plain": [
              "<Figure size 600x500 with 2 Axes>"
            ]
          },
          "metadata": {},
          "output_type": "display_data"
        }
      ],
      "source": [
        "m = confusion_matrix(y_test, y_pred)\n",
        "normalized_cm = m.astype('float') / m.sum(axis=1)[:, np.newaxis]\n",
        "fig = plt.figure(figsize=(6, 5))\n",
        "sns.heatmap(normalized_cm, annot=True, fmt='f', cmap=PALETTE, cbar=True, xticklabels=LABELS, yticklabels=LABELS)\n",
        "plt.title('NN Confusion Matrix')\n",
        "plt.ylabel('Actual')\n",
        "plt.xlabel('Predicted')\n",
        "plt.show()"
      ]
    },
    {
      "cell_type": "markdown",
      "metadata": {
        "id": "O9RB5YWXQEQv"
      },
      "source": [
        "Based on the problem's context (e.g., predicting timely delivery), one might prioritize recall to ensure that as many on-time deliveries are correctly identified as possible, or precision to avoid false alarms\n",
        "\n",
        "Network Architecture:\n",
        "  - First Dense Layer: 64 neurons, ReLU activation, takes input with shape (X_train.shape[1],).\n",
        "  - First Dropout Layer: Drops 30% of the units.\n",
        "  - Second Dense Layer: 32 neurons, ReLU activation.\n",
        "  - Second Dropout Layer: Drops 30% of the units.\n",
        "  - Third Dense Layer: 16 neurons, ReLU activation.\n",
        "  - Output Layer: 1 neuron, Sigmoid activation for binary classification.\n",
        "\n",
        "Loss Function: Binary Cross-Entropy, suitable for binary classification.\n",
        "\n",
        "Optimization Algorithm: Adam optimizer, known for its efficiency and performance."
      ]
    },
    {
      "cell_type": "markdown",
      "metadata": {},
      "source": [
        "### Method Two: Decision Tree"
      ]
    },
    {
      "cell_type": "code",
      "execution_count": 53,
      "metadata": {},
      "outputs": [],
      "source": [
        "from sklearn.model_selection import GridSearchCV\n",
        "from sklearn.tree import DecisionTreeClassifier , export_text"
      ]
    },
    {
      "cell_type": "code",
      "execution_count": 54,
      "metadata": {},
      "outputs": [],
      "source": [
        "RANDOM_STATE = 50"
      ]
    },
    {
      "cell_type": "code",
      "execution_count": 55,
      "metadata": {},
      "outputs": [],
      "source": [
        "grid = {\n",
        "    \"criterion\": [\"gini\"],\n",
        "    \"max_depth\": range(2, 10),\n",
        "    'min_samples_split': range(2, 10),\n",
        "    'min_samples_leaf': range(1, 5),\n",
        "}\n",
        "decisionTreeGrid = GridSearchCV(\n",
        "    estimator=DecisionTreeClassifier( random_state = 2),\n",
        "    param_grid=grid,\n",
        "    scoring=\"accuracy\",\n",
        "    cv=10,\n",
        "    n_jobs=-1,\n",
        ")\n",
        "decisionTreeGrid.fit(X_train, y_train)\n",
        "decision_tree_predicted = decisionTreeGrid.best_estimator_.predict(X_test)"
      ]
    },
    {
      "cell_type": "code",
      "execution_count": 56,
      "metadata": {},
      "outputs": [
        {
          "name": "stdout",
          "output_type": "stream",
          "text": [
            "|--- Discount_offered <= -0.18\n",
            "|   |--- Weight_in_gms <= 0.30\n",
            "|   |   |--- Cost_of_the_Product <= 0.11\n",
            "|   |   |   |--- Weight_in_gms <= 0.23\n",
            "|   |   |   |   |--- class: 1\n",
            "|   |   |   |--- Weight_in_gms >  0.23\n",
            "|   |   |   |   |--- class: 1\n",
            "|   |   |--- Cost_of_the_Product >  0.11\n",
            "|   |   |   |--- Weight_in_gms <= -1.00\n",
            "|   |   |   |   |--- class: 0\n",
            "|   |   |   |--- Weight_in_gms >  -1.00\n",
            "|   |   |   |   |--- class: 1\n",
            "|   |--- Weight_in_gms >  0.30\n",
            "|   |   |--- cost_with_discount <= 2.60\n",
            "|   |   |   |--- cost_of_the_product_per_gram <= -2.11\n",
            "|   |   |   |   |--- class: 0\n",
            "|   |   |   |--- cost_of_the_product_per_gram >  -2.11\n",
            "|   |   |   |   |--- class: 0\n",
            "|   |   |--- cost_with_discount >  2.60\n",
            "|   |   |   |--- class: 1\n",
            "|--- Discount_offered >  -0.18\n",
            "|   |--- class: 1\n",
            "\n"
          ]
        }
      ],
      "source": [
        "text_representation = export_text(decisionTreeGrid.best_estimator_, feature_names=list(X_train.columns))\n",
        "print(text_representation)"
      ]
    },
    {
      "cell_type": "code",
      "execution_count": 57,
      "metadata": {},
      "outputs": [
        {
          "name": "stdout",
          "output_type": "stream",
          "text": [
            "Decision Tree Accuracy: 69.05%\n",
            "              precision    recall  f1-score   support\n",
            "\n",
            " Not Reached       0.57      0.94      0.71       895\n",
            "     Reached       0.93      0.52      0.67      1305\n",
            "\n",
            "    accuracy                           0.69      2200\n",
            "   macro avg       0.75      0.73      0.69      2200\n",
            "weighted avg       0.78      0.69      0.68      2200\n",
            "\n",
            "ROC AUC : 0.73\n"
          ]
        }
      ],
      "source": [
        "print(f\"Decision Tree Accuracy: {decisionTreeGrid.score(X_test, y_test) * 100:2.2f}%\")\n",
        "report = classification_report(y_test, decision_tree_predicted, target_names=LABELS)\n",
        "print(report)\n",
        "\n",
        "fpr, tpr, thresholds = roc_curve(y_test, decision_tree_predicted, pos_label=1)\n",
        "print('ROC AUC : %.2f' % auc(fpr, tpr))"
      ]
    },
    {
      "cell_type": "code",
      "execution_count": 58,
      "metadata": {},
      "outputs": [
        {
          "data": {
            "image/png": "[encoded data removed]",
            "text/plain": [
              "<Figure size 600x500 with 2 Axes>"
            ]
          },
          "metadata": {},
          "output_type": "display_data"
        }
      ],
      "source": [
        "decision_tree_confusion_matrix = confusion_matrix(y_test, decision_tree_predicted)\n",
        "\n",
        "# Normalize the confusion matrix\n",
        "normalized_cm = decision_tree_confusion_matrix.astype('float') / decision_tree_confusion_matrix.sum(axis=1)[:, np.newaxis]\n",
        "\n",
        "# Create the heatmap\n",
        "fig = plt.figure(figsize=(6, 5))\n",
        "sns.heatmap(normalized_cm, annot=True, fmt='f', cmap=PALETTE, cbar=True, xticklabels=LABELS, yticklabels=LABELS)\n",
        "\n",
        "# Add titles and labels\n",
        "plt.title('NN Confusion Matrix')\n",
        "plt.ylabel('Actual')\n",
        "plt.xlabel('Predicted')\n",
        "\n",
        "# Show the plot\n",
        "plt.show()"
      ]
    },
    {
      "cell_type": "markdown",
      "metadata": {},
      "source": [
        "### Method Three: SVM"
      ]
    },
    {
      "cell_type": "code",
      "execution_count": null,
      "metadata": {},
      "outputs": [],
      "source": []
    },
    {
      "cell_type": "markdown",
      "metadata": {},
      "source": [
        "## Part 6: Feature Analysis"
      ]
    },
    {
      "cell_type": "code",
      "execution_count": null,
      "metadata": {},
      "outputs": [],
      "source": []
    },
    {
      "cell_type": "markdown",
      "metadata": {},
      "source": [
        "## Part 7: Overall Report and Discussions"
      ]
    },
    {
      "cell_type": "markdown",
      "metadata": {},
      "source": []
    }
  ],
  "metadata": {
    "colab": {
      "provenance": []
    },
    "kernelspec": {
      "display_name": "Python 3",
      "name": "python3"
    },
    "language_info": {
      "codemirror_mode": {
        "name": "ipython",
        "version": 3
      },
      "file_extension": ".py",
      "mimetype": "text/x-python",
      "name": "python",
      "nbconvert_exporter": "python",
      "pygments_lexer": "ipython3",
      "version": "3.10.11"
    }
  },
  "nbformat": 4,
  "nbformat_minor": 0
}
